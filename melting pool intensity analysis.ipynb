{
 "cells": [
  {
   "cell_type": "code",
   "execution_count": 1,
   "id": "cdcd8039",
   "metadata": {
    "ExecuteTime": {
     "end_time": "2022-08-01T09:12:47.309306Z",
     "start_time": "2022-08-01T09:12:44.054291Z"
    }
   },
   "outputs": [],
   "source": [
    "try:\n",
    "    import xml.etree.cElementTree as ET\n",
    "except ImportError:\n",
    "    import xml.etree.ElementTree as ET\n",
    "import numpy as np\n",
    "import pandas as pd\n",
    "import matplotlib.pyplot as plt\n",
    "import scipy.signal as signal"
   ]
  },
  {
   "cell_type": "markdown",
   "id": "c8ca742b",
   "metadata": {},
   "source": [
    "# 处理路径数据，建立data_feature离散表"
   ]
  },
  {
   "cell_type": "markdown",
   "id": "548933b3",
   "metadata": {},
   "source": [
    "## 解析路径文件"
   ]
  },
  {
   "cell_type": "code",
   "execution_count": 2,
   "id": "ae68f443",
   "metadata": {
    "ExecuteTime": {
     "end_time": "2022-08-01T09:12:47.393986Z",
     "start_time": "2022-08-01T09:12:47.361438Z"
    }
   },
   "outputs": [],
   "source": [
    "xml_path = r'C:\\jupyter notebook\\熔池数据\\k438layer103\\Data\\103_20210316121817.xml'\n",
    "tree = ET.parse(xml_path)\n",
    "root = tree.getroot() #获取根节点\n",
    "feature = tree.findall('FEATURE') #获取feature节点列表"
   ]
  },
  {
   "cell_type": "code",
   "execution_count": 3,
   "id": "e802009b",
   "metadata": {
    "ExecuteTime": {
     "end_time": "2022-08-01T09:12:47.861285Z",
     "start_time": "2022-08-01T09:12:47.440044Z"
    }
   },
   "outputs": [
    {
     "name": "stdout",
     "output_type": "stream",
     "text": [
      "0 11 0 0 0\n",
      "0 5 1 255 1200\n",
      "0 11 0 0 0\n",
      "0 5 1 255 1200\n",
      "0 11 0 0 0\n",
      "0 5 1 255 1200\n",
      "0 11 0 0 0\n",
      "0 5 1 255 1200\n",
      "0 11 0 0 0\n",
      "0 5 1 255 1200\n",
      "0 11 0 0 0\n",
      "0 5 1 255 1200\n",
      "0 11 0 0 0\n",
      "0 5 1 255 1200\n",
      "0 11 0 0 0\n",
      "0 5 1 215 1200\n",
      "0 11 0 0 0\n",
      "0 5 1 225 1200\n",
      "0 11 0 0 0\n",
      "0 5 1 235 1200\n",
      "0 11 0 0 0\n",
      "0 5 1 245 1200\n",
      "0 11 0 0 0\n",
      "0 5 1 255 1200\n",
      "0 11 0 0 0\n",
      "0 5 1 265 1200\n",
      "0 11 0 0 0\n",
      "0 5 1 275 1200\n",
      "0 11 0 0 0\n",
      "0 5 1 285 1200\n",
      "0 11 0 0 0\n",
      "0 5 1 295 1200\n"
     ]
    },
    {
     "name": "stderr",
     "output_type": "stream",
     "text": [
      "C:\\Users\\cheng\\AppData\\Local\\Temp/ipykernel_8856/553079064.py:29: VisibleDeprecationWarning: Creating an ndarray from ragged nested sequences (which is a list-or-tuple of lists-or-tuples-or ndarrays with different lengths or shapes) is deprecated. If you meant to do this, you must specify 'dtype=object' when creating the ndarray.\n",
      "  all_type_line_point = np.array(all_type_line_point)\n"
     ]
    }
   ],
   "source": [
    "num_fea = len(feature)\n",
    "\n",
    "all_type_line_point = []\n",
    "data_feature = pd.DataFrame()\n",
    "#获取feature列表的特征属性信息\n",
    "for i, child_f in enumerate(feature):\n",
    "    index_ = int(child_f.get('INDEX')) #获取feature的几个属性index=0,1代表不同激光器\n",
    "    type_ = int(child_f.get('TYPE')) # 不同特征，5为实体\n",
    "    count_ = int(child_f.get('COUNT')) #count=1，0，代表扫描几次\n",
    "    power_ = int(child_f.get('POWER')) #功率\n",
    "    speed_ = int(child_f.get('SPEED')) #速度\n",
    "    print (index_, type_, count_, power_, speed_)\n",
    "    data_feature = data_feature.append({'laser_index':index_,'type':type_,'count':count_,'power':power_,'speed':speed_},\n",
    "                                       ignore_index = True)\n",
    "    \n",
    "    #多激光需添加激光索引一致性和扫描次数count判断\n",
    "    #在获取特征集合中polyline的集合\n",
    "    #获取polyline节点数量num_poly\n",
    "    #如果节点数量不等于0，速度不等于0；则num+1\n",
    "    num = 0\n",
    "    type_i_line_point = []\n",
    "    if count_ != \"0\":\n",
    "        for i,child_p in enumerate(child_f.iterfind(\"POLYLINE\")):\n",
    "            polyline_array = np.array(child_p.text.split(',')).astype(float)\n",
    "            type_i_line_point.append(list(polyline_array[1:]))\n",
    "            num += 1\n",
    "    all_type_line_point.append(type_i_line_point)\n",
    "\n",
    "all_type_line_point = np.array(all_type_line_point)    \n",
    "data_feature['polyline'] = all_type_line_point"
   ]
  },
  {
   "cell_type": "code",
   "execution_count": 4,
   "id": "9640e4c8",
   "metadata": {
    "ExecuteTime": {
     "end_time": "2022-07-18T03:08:03.841584Z",
     "start_time": "2022-07-18T03:08:02.768409Z"
    }
   },
   "outputs": [
    {
     "data": {
      "text/html": [
       "<div>\n",
       "<style scoped>\n",
       "    .dataframe tbody tr th:only-of-type {\n",
       "        vertical-align: middle;\n",
       "    }\n",
       "\n",
       "    .dataframe tbody tr th {\n",
       "        vertical-align: top;\n",
       "    }\n",
       "\n",
       "    .dataframe thead th {\n",
       "        text-align: right;\n",
       "    }\n",
       "</style>\n",
       "<table border=\"1\" class=\"dataframe\">\n",
       "  <thead>\n",
       "    <tr style=\"text-align: right;\">\n",
       "      <th></th>\n",
       "      <th>laser_index</th>\n",
       "      <th>type</th>\n",
       "      <th>count</th>\n",
       "      <th>power</th>\n",
       "      <th>speed</th>\n",
       "      <th>polyline</th>\n",
       "    </tr>\n",
       "  </thead>\n",
       "  <tbody>\n",
       "    <tr>\n",
       "      <th>0</th>\n",
       "      <td>0.0</td>\n",
       "      <td>11.0</td>\n",
       "      <td>0.0</td>\n",
       "      <td>0.0</td>\n",
       "      <td>0.0</td>\n",
       "      <td>[[122.7, 49.48, 121.66, 49.1, 115.18, 46.74, 1...</td>\n",
       "    </tr>\n",
       "    <tr>\n",
       "      <th>1</th>\n",
       "      <td>0.0</td>\n",
       "      <td>5.0</td>\n",
       "      <td>1.0</td>\n",
       "      <td>255.0</td>\n",
       "      <td>1200.0</td>\n",
       "      <td>[[117.891, 39.27, 118.084, 39.27], [118.274, 3...</td>\n",
       "    </tr>\n",
       "    <tr>\n",
       "      <th>2</th>\n",
       "      <td>0.0</td>\n",
       "      <td>11.0</td>\n",
       "      <td>0.0</td>\n",
       "      <td>0.0</td>\n",
       "      <td>0.0</td>\n",
       "      <td>[[49.21, 83.44, 46.85, 89.92, 45.81, 89.54, 39...</td>\n",
       "    </tr>\n",
       "    <tr>\n",
       "      <th>3</th>\n",
       "      <td>0.0</td>\n",
       "      <td>5.0</td>\n",
       "      <td>1.0</td>\n",
       "      <td>255.0</td>\n",
       "      <td>1200.0</td>\n",
       "      <td>[[42.0485, 79.7, 42.1828, 79.7], [42.322, 79.7...</td>\n",
       "    </tr>\n",
       "    <tr>\n",
       "      <th>4</th>\n",
       "      <td>0.0</td>\n",
       "      <td>11.0</td>\n",
       "      <td>0.0</td>\n",
       "      <td>0.0</td>\n",
       "      <td>0.0</td>\n",
       "      <td>[[101.1, 82.4, 100.72, 83.44, 98.36, 89.92, 97...</td>\n",
       "    </tr>\n",
       "    <tr>\n",
       "      <th>5</th>\n",
       "      <td>0.0</td>\n",
       "      <td>5.0</td>\n",
       "      <td>1.0</td>\n",
       "      <td>255.0</td>\n",
       "      <td>1200.0</td>\n",
       "      <td>[[93.5658, 79.68, 93.6376, 79.68], [93.8063, 7...</td>\n",
       "    </tr>\n",
       "    <tr>\n",
       "      <th>6</th>\n",
       "      <td>0.0</td>\n",
       "      <td>11.0</td>\n",
       "      <td>0.0</td>\n",
       "      <td>0.0</td>\n",
       "      <td>0.0</td>\n",
       "      <td>[[152.24, 83.44, 149.88, 89.92, 148.85, 89.54,...</td>\n",
       "    </tr>\n",
       "    <tr>\n",
       "      <th>7</th>\n",
       "      <td>0.0</td>\n",
       "      <td>5.0</td>\n",
       "      <td>1.0</td>\n",
       "      <td>255.0</td>\n",
       "      <td>1200.0</td>\n",
       "      <td>[[145.093, 79.66, 145.101, 79.66], [145.296, 7...</td>\n",
       "    </tr>\n",
       "    <tr>\n",
       "      <th>8</th>\n",
       "      <td>0.0</td>\n",
       "      <td>11.0</td>\n",
       "      <td>0.0</td>\n",
       "      <td>0.0</td>\n",
       "      <td>0.0</td>\n",
       "      <td>[[203.76, 83.44, 201.4, 89.92, 200.36, 89.54, ...</td>\n",
       "    </tr>\n",
       "    <tr>\n",
       "      <th>9</th>\n",
       "      <td>0.0</td>\n",
       "      <td>5.0</td>\n",
       "      <td>1.0</td>\n",
       "      <td>255.0</td>\n",
       "      <td>1200.0</td>\n",
       "      <td>[[196.606, 79.68, 196.677, 79.68], [196.9, 79....</td>\n",
       "    </tr>\n",
       "    <tr>\n",
       "      <th>10</th>\n",
       "      <td>0.0</td>\n",
       "      <td>11.0</td>\n",
       "      <td>0.0</td>\n",
       "      <td>0.0</td>\n",
       "      <td>0.0</td>\n",
       "      <td>[[45.81, 122.6, 39.33, 120.24, 39.71, 119.21, ...</td>\n",
       "    </tr>\n",
       "    <tr>\n",
       "      <th>11</th>\n",
       "      <td>0.0</td>\n",
       "      <td>5.0</td>\n",
       "      <td>1.0</td>\n",
       "      <td>255.0</td>\n",
       "      <td>1200.0</td>\n",
       "      <td>[[42.0413, 112.77, 42.2341, 112.77], [42.4781,...</td>\n",
       "    </tr>\n",
       "    <tr>\n",
       "      <th>12</th>\n",
       "      <td>0.0</td>\n",
       "      <td>11.0</td>\n",
       "      <td>0.0</td>\n",
       "      <td>0.0</td>\n",
       "      <td>0.0</td>\n",
       "      <td>[[90.85, 120.24, 91.22, 119.21, 93.58, 112.72,...</td>\n",
       "    </tr>\n",
       "    <tr>\n",
       "      <th>13</th>\n",
       "      <td>0.0</td>\n",
       "      <td>5.0</td>\n",
       "      <td>1.0</td>\n",
       "      <td>255.0</td>\n",
       "      <td>1200.0</td>\n",
       "      <td>[[93.5404, 112.8, 93.8278, 112.8], [94.1015, 1...</td>\n",
       "    </tr>\n",
       "    <tr>\n",
       "      <th>14</th>\n",
       "      <td>0.0</td>\n",
       "      <td>11.0</td>\n",
       "      <td>0.0</td>\n",
       "      <td>0.0</td>\n",
       "      <td>0.0</td>\n",
       "      <td>[[152.24, 116.49, 149.88, 122.98, 148.85, 122....</td>\n",
       "    </tr>\n",
       "    <tr>\n",
       "      <th>15</th>\n",
       "      <td>0.0</td>\n",
       "      <td>5.0</td>\n",
       "      <td>1.0</td>\n",
       "      <td>215.0</td>\n",
       "      <td>1200.0</td>\n",
       "      <td>[[145.071, 112.77, 145.264, 112.77], [145.454,...</td>\n",
       "    </tr>\n",
       "    <tr>\n",
       "      <th>16</th>\n",
       "      <td>0.0</td>\n",
       "      <td>11.0</td>\n",
       "      <td>0.0</td>\n",
       "      <td>0.0</td>\n",
       "      <td>0.0</td>\n",
       "      <td>[[203.76, 116.49, 201.4, 122.98, 200.36, 122.6...</td>\n",
       "    </tr>\n",
       "    <tr>\n",
       "      <th>17</th>\n",
       "      <td>0.0</td>\n",
       "      <td>5.0</td>\n",
       "      <td>1.0</td>\n",
       "      <td>225.0</td>\n",
       "      <td>1200.0</td>\n",
       "      <td>[[196.591, 112.77, 196.784, 112.77], [196.974,...</td>\n",
       "    </tr>\n",
       "    <tr>\n",
       "      <th>18</th>\n",
       "      <td>0.0</td>\n",
       "      <td>11.0</td>\n",
       "      <td>0.0</td>\n",
       "      <td>0.0</td>\n",
       "      <td>0.0</td>\n",
       "      <td>[[43.1, 146.16, 49.58, 148.52, 49.21, 149.55, ...</td>\n",
       "    </tr>\n",
       "    <tr>\n",
       "      <th>19</th>\n",
       "      <td>0.0</td>\n",
       "      <td>5.0</td>\n",
       "      <td>1.0</td>\n",
       "      <td>235.0</td>\n",
       "      <td>1200.0</td>\n",
       "      <td>[[42.0485, 145.81, 42.1799, 145.81], [42.3697,...</td>\n",
       "    </tr>\n",
       "    <tr>\n",
       "      <th>20</th>\n",
       "      <td>0.0</td>\n",
       "      <td>11.0</td>\n",
       "      <td>0.0</td>\n",
       "      <td>0.0</td>\n",
       "      <td>0.0</td>\n",
       "      <td>[[91.22, 152.26, 93.58, 145.78, 94.62, 146.16,...</td>\n",
       "    </tr>\n",
       "    <tr>\n",
       "      <th>21</th>\n",
       "      <td>0.0</td>\n",
       "      <td>5.0</td>\n",
       "      <td>1.0</td>\n",
       "      <td>245.0</td>\n",
       "      <td>1200.0</td>\n",
       "      <td>[[93.5585, 145.81, 93.6909, 145.81], [93.8825,...</td>\n",
       "    </tr>\n",
       "    <tr>\n",
       "      <th>22</th>\n",
       "      <td>0.0</td>\n",
       "      <td>11.0</td>\n",
       "      <td>0.0</td>\n",
       "      <td>0.0</td>\n",
       "      <td>0.0</td>\n",
       "      <td>[[152.24, 149.55, 149.88, 156.03, 148.85, 155....</td>\n",
       "    </tr>\n",
       "    <tr>\n",
       "      <th>23</th>\n",
       "      <td>0.0</td>\n",
       "      <td>5.0</td>\n",
       "      <td>1.0</td>\n",
       "      <td>255.0</td>\n",
       "      <td>1200.0</td>\n",
       "      <td>[[145.079, 145.81, 145.21, 145.81], [145.4, 14...</td>\n",
       "    </tr>\n",
       "    <tr>\n",
       "      <th>24</th>\n",
       "      <td>0.0</td>\n",
       "      <td>11.0</td>\n",
       "      <td>0.0</td>\n",
       "      <td>0.0</td>\n",
       "      <td>0.0</td>\n",
       "      <td>[[203.76, 149.55, 201.4, 156.03, 200.36, 155.6...</td>\n",
       "    </tr>\n",
       "    <tr>\n",
       "      <th>25</th>\n",
       "      <td>0.0</td>\n",
       "      <td>5.0</td>\n",
       "      <td>1.0</td>\n",
       "      <td>265.0</td>\n",
       "      <td>1200.0</td>\n",
       "      <td>[[196.599, 145.81, 196.73, 145.81], [196.92, 1...</td>\n",
       "    </tr>\n",
       "    <tr>\n",
       "      <th>26</th>\n",
       "      <td>0.0</td>\n",
       "      <td>11.0</td>\n",
       "      <td>0.0</td>\n",
       "      <td>0.0</td>\n",
       "      <td>0.0</td>\n",
       "      <td>[[49.21, 182.61, 46.85, 189.09, 45.81, 188.71,...</td>\n",
       "    </tr>\n",
       "    <tr>\n",
       "      <th>27</th>\n",
       "      <td>0.0</td>\n",
       "      <td>5.0</td>\n",
       "      <td>1.0</td>\n",
       "      <td>275.0</td>\n",
       "      <td>1200.0</td>\n",
       "      <td>[[42.0558, 178.85, 42.1272, 178.85], [42.322, ...</td>\n",
       "    </tr>\n",
       "    <tr>\n",
       "      <th>28</th>\n",
       "      <td>0.0</td>\n",
       "      <td>11.0</td>\n",
       "      <td>0.0</td>\n",
       "      <td>0.0</td>\n",
       "      <td>0.0</td>\n",
       "      <td>[[100.72, 182.61, 98.36, 189.09, 97.33, 188.71...</td>\n",
       "    </tr>\n",
       "    <tr>\n",
       "      <th>29</th>\n",
       "      <td>0.0</td>\n",
       "      <td>5.0</td>\n",
       "      <td>1.0</td>\n",
       "      <td>285.0</td>\n",
       "      <td>1200.0</td>\n",
       "      <td>[[93.5658, 178.85, 93.6377, 178.85], [93.8344,...</td>\n",
       "    </tr>\n",
       "    <tr>\n",
       "      <th>30</th>\n",
       "      <td>0.0</td>\n",
       "      <td>11.0</td>\n",
       "      <td>0.0</td>\n",
       "      <td>0.0</td>\n",
       "      <td>0.0</td>\n",
       "      <td>[[152.24, 182.61, 149.88, 189.09, 148.85, 188....</td>\n",
       "    </tr>\n",
       "    <tr>\n",
       "      <th>31</th>\n",
       "      <td>0.0</td>\n",
       "      <td>5.0</td>\n",
       "      <td>1.0</td>\n",
       "      <td>295.0</td>\n",
       "      <td>1200.0</td>\n",
       "      <td>[[145.086, 178.85, 145.157, 178.85], [145.352,...</td>\n",
       "    </tr>\n",
       "  </tbody>\n",
       "</table>\n",
       "</div>"
      ],
      "text/plain": [
       "    laser_index  type  count  power   speed  \\\n",
       "0           0.0  11.0    0.0    0.0     0.0   \n",
       "1           0.0   5.0    1.0  255.0  1200.0   \n",
       "2           0.0  11.0    0.0    0.0     0.0   \n",
       "3           0.0   5.0    1.0  255.0  1200.0   \n",
       "4           0.0  11.0    0.0    0.0     0.0   \n",
       "5           0.0   5.0    1.0  255.0  1200.0   \n",
       "6           0.0  11.0    0.0    0.0     0.0   \n",
       "7           0.0   5.0    1.0  255.0  1200.0   \n",
       "8           0.0  11.0    0.0    0.0     0.0   \n",
       "9           0.0   5.0    1.0  255.0  1200.0   \n",
       "10          0.0  11.0    0.0    0.0     0.0   \n",
       "11          0.0   5.0    1.0  255.0  1200.0   \n",
       "12          0.0  11.0    0.0    0.0     0.0   \n",
       "13          0.0   5.0    1.0  255.0  1200.0   \n",
       "14          0.0  11.0    0.0    0.0     0.0   \n",
       "15          0.0   5.0    1.0  215.0  1200.0   \n",
       "16          0.0  11.0    0.0    0.0     0.0   \n",
       "17          0.0   5.0    1.0  225.0  1200.0   \n",
       "18          0.0  11.0    0.0    0.0     0.0   \n",
       "19          0.0   5.0    1.0  235.0  1200.0   \n",
       "20          0.0  11.0    0.0    0.0     0.0   \n",
       "21          0.0   5.0    1.0  245.0  1200.0   \n",
       "22          0.0  11.0    0.0    0.0     0.0   \n",
       "23          0.0   5.0    1.0  255.0  1200.0   \n",
       "24          0.0  11.0    0.0    0.0     0.0   \n",
       "25          0.0   5.0    1.0  265.0  1200.0   \n",
       "26          0.0  11.0    0.0    0.0     0.0   \n",
       "27          0.0   5.0    1.0  275.0  1200.0   \n",
       "28          0.0  11.0    0.0    0.0     0.0   \n",
       "29          0.0   5.0    1.0  285.0  1200.0   \n",
       "30          0.0  11.0    0.0    0.0     0.0   \n",
       "31          0.0   5.0    1.0  295.0  1200.0   \n",
       "\n",
       "                                             polyline  \n",
       "0   [[122.7, 49.48, 121.66, 49.1, 115.18, 46.74, 1...  \n",
       "1   [[117.891, 39.27, 118.084, 39.27], [118.274, 3...  \n",
       "2   [[49.21, 83.44, 46.85, 89.92, 45.81, 89.54, 39...  \n",
       "3   [[42.0485, 79.7, 42.1828, 79.7], [42.322, 79.7...  \n",
       "4   [[101.1, 82.4, 100.72, 83.44, 98.36, 89.92, 97...  \n",
       "5   [[93.5658, 79.68, 93.6376, 79.68], [93.8063, 7...  \n",
       "6   [[152.24, 83.44, 149.88, 89.92, 148.85, 89.54,...  \n",
       "7   [[145.093, 79.66, 145.101, 79.66], [145.296, 7...  \n",
       "8   [[203.76, 83.44, 201.4, 89.92, 200.36, 89.54, ...  \n",
       "9   [[196.606, 79.68, 196.677, 79.68], [196.9, 79....  \n",
       "10  [[45.81, 122.6, 39.33, 120.24, 39.71, 119.21, ...  \n",
       "11  [[42.0413, 112.77, 42.2341, 112.77], [42.4781,...  \n",
       "12  [[90.85, 120.24, 91.22, 119.21, 93.58, 112.72,...  \n",
       "13  [[93.5404, 112.8, 93.8278, 112.8], [94.1015, 1...  \n",
       "14  [[152.24, 116.49, 149.88, 122.98, 148.85, 122....  \n",
       "15  [[145.071, 112.77, 145.264, 112.77], [145.454,...  \n",
       "16  [[203.76, 116.49, 201.4, 122.98, 200.36, 122.6...  \n",
       "17  [[196.591, 112.77, 196.784, 112.77], [196.974,...  \n",
       "18  [[43.1, 146.16, 49.58, 148.52, 49.21, 149.55, ...  \n",
       "19  [[42.0485, 145.81, 42.1799, 145.81], [42.3697,...  \n",
       "20  [[91.22, 152.26, 93.58, 145.78, 94.62, 146.16,...  \n",
       "21  [[93.5585, 145.81, 93.6909, 145.81], [93.8825,...  \n",
       "22  [[152.24, 149.55, 149.88, 156.03, 148.85, 155....  \n",
       "23  [[145.079, 145.81, 145.21, 145.81], [145.4, 14...  \n",
       "24  [[203.76, 149.55, 201.4, 156.03, 200.36, 155.6...  \n",
       "25  [[196.599, 145.81, 196.73, 145.81], [196.92, 1...  \n",
       "26  [[49.21, 182.61, 46.85, 189.09, 45.81, 188.71,...  \n",
       "27  [[42.0558, 178.85, 42.1272, 178.85], [42.322, ...  \n",
       "28  [[100.72, 182.61, 98.36, 189.09, 97.33, 188.71...  \n",
       "29  [[93.5658, 178.85, 93.6377, 178.85], [93.8344,...  \n",
       "30  [[152.24, 182.61, 149.88, 189.09, 148.85, 188....  \n",
       "31  [[145.086, 178.85, 145.157, 178.85], [145.352,...  "
      ]
     },
     "execution_count": 4,
     "metadata": {},
     "output_type": "execute_result"
    }
   ],
   "source": [
    "data_feature"
   ]
  },
  {
   "cell_type": "code",
   "execution_count": 4,
   "id": "d240da5f",
   "metadata": {
    "ExecuteTime": {
     "end_time": "2022-07-22T02:39:48.457925Z",
     "start_time": "2022-07-22T02:39:41.805616Z"
    }
   },
   "outputs": [
    {
     "data": {
      "image/png": "[encoded data removed]",
      "text/plain": [
       "<Figure size 720x720 with 1 Axes>"
      ]
     },
     "metadata": {
      "needs_background": "light"
     },
     "output_type": "display_data"
    }
   ],
   "source": [
    "plt.figure(figsize=(10,10))\n",
    "plt.xlim(0,258)\n",
    "plt.ylim(0,258)\n",
    "\n",
    "for row_index in data_feature.index:\n",
    "    poly_data = data_feature.loc[row_index,'polyline']\n",
    "    for i in range(len(poly_data)):\n",
    "        poly_data[i] = np.array(poly_data[i]).reshape(-1,1,2)\n",
    "        plt.plot(poly_data[i][:,:,0],poly_data[i][:,:,1],ls = '-',c='r')\n",
    "\n",
    "plt.show()"
   ]
  },
  {
   "cell_type": "markdown",
   "id": "14b6d6b6",
   "metadata": {},
   "source": [
    "## 只处理激光烧结数据，即count==1 数据"
   ]
  },
  {
   "cell_type": "code",
   "execution_count": 4,
   "id": "1fc78061",
   "metadata": {
    "ExecuteTime": {
     "end_time": "2022-08-01T09:12:56.618657Z",
     "start_time": "2022-08-01T09:12:56.599861Z"
    },
    "scrolled": true
   },
   "outputs": [],
   "source": [
    "## 考虑扫描次数，应设置 ！=0，再根据==1或==2分析\n",
    "data_feature_sinter_1 = data_feature.loc[data_feature['count'] == 1] "
   ]
  },
  {
   "cell_type": "code",
   "execution_count": 5,
   "id": "4637b2b8",
   "metadata": {
    "ExecuteTime": {
     "end_time": "2022-07-25T05:56:29.632429Z",
     "start_time": "2022-07-25T05:56:28.509540Z"
    },
    "scrolled": false
   },
   "outputs": [
    {
     "data": {
      "text/html": [
       "<div>\n",
       "<style scoped>\n",
       "    .dataframe tbody tr th:only-of-type {\n",
       "        vertical-align: middle;\n",
       "    }\n",
       "\n",
       "    .dataframe tbody tr th {\n",
       "        vertical-align: top;\n",
       "    }\n",
       "\n",
       "    .dataframe thead th {\n",
       "        text-align: right;\n",
       "    }\n",
       "</style>\n",
       "<table border=\"1\" class=\"dataframe\">\n",
       "  <thead>\n",
       "    <tr style=\"text-align: right;\">\n",
       "      <th></th>\n",
       "      <th>laser_index</th>\n",
       "      <th>type</th>\n",
       "      <th>count</th>\n",
       "      <th>power</th>\n",
       "      <th>speed</th>\n",
       "      <th>polyline</th>\n",
       "    </tr>\n",
       "  </thead>\n",
       "  <tbody>\n",
       "    <tr>\n",
       "      <th>1</th>\n",
       "      <td>0.0</td>\n",
       "      <td>5.0</td>\n",
       "      <td>1.0</td>\n",
       "      <td>255.0</td>\n",
       "      <td>1200.0</td>\n",
       "      <td>[[117.891, 39.27, 118.084, 39.27], [118.274, 3...</td>\n",
       "    </tr>\n",
       "    <tr>\n",
       "      <th>3</th>\n",
       "      <td>0.0</td>\n",
       "      <td>5.0</td>\n",
       "      <td>1.0</td>\n",
       "      <td>255.0</td>\n",
       "      <td>1200.0</td>\n",
       "      <td>[[42.0485, 79.7, 42.1828, 79.7], [42.322, 79.7...</td>\n",
       "    </tr>\n",
       "    <tr>\n",
       "      <th>5</th>\n",
       "      <td>0.0</td>\n",
       "      <td>5.0</td>\n",
       "      <td>1.0</td>\n",
       "      <td>255.0</td>\n",
       "      <td>1200.0</td>\n",
       "      <td>[[93.5658, 79.68, 93.6376, 79.68], [93.8063, 7...</td>\n",
       "    </tr>\n",
       "    <tr>\n",
       "      <th>7</th>\n",
       "      <td>0.0</td>\n",
       "      <td>5.0</td>\n",
       "      <td>1.0</td>\n",
       "      <td>255.0</td>\n",
       "      <td>1200.0</td>\n",
       "      <td>[[145.093, 79.66, 145.101, 79.66], [145.296, 7...</td>\n",
       "    </tr>\n",
       "    <tr>\n",
       "      <th>9</th>\n",
       "      <td>0.0</td>\n",
       "      <td>5.0</td>\n",
       "      <td>1.0</td>\n",
       "      <td>255.0</td>\n",
       "      <td>1200.0</td>\n",
       "      <td>[[196.606, 79.68, 196.677, 79.68], [196.9, 79....</td>\n",
       "    </tr>\n",
       "    <tr>\n",
       "      <th>11</th>\n",
       "      <td>0.0</td>\n",
       "      <td>5.0</td>\n",
       "      <td>1.0</td>\n",
       "      <td>255.0</td>\n",
       "      <td>1200.0</td>\n",
       "      <td>[[42.0413, 112.77, 42.2341, 112.77], [42.4781,...</td>\n",
       "    </tr>\n",
       "    <tr>\n",
       "      <th>13</th>\n",
       "      <td>0.0</td>\n",
       "      <td>5.0</td>\n",
       "      <td>1.0</td>\n",
       "      <td>255.0</td>\n",
       "      <td>1200.0</td>\n",
       "      <td>[[93.5404, 112.8, 93.8278, 112.8], [94.1015, 1...</td>\n",
       "    </tr>\n",
       "    <tr>\n",
       "      <th>15</th>\n",
       "      <td>0.0</td>\n",
       "      <td>5.0</td>\n",
       "      <td>1.0</td>\n",
       "      <td>215.0</td>\n",
       "      <td>1200.0</td>\n",
       "      <td>[[145.071, 112.77, 145.264, 112.77], [145.454,...</td>\n",
       "    </tr>\n",
       "    <tr>\n",
       "      <th>17</th>\n",
       "      <td>0.0</td>\n",
       "      <td>5.0</td>\n",
       "      <td>1.0</td>\n",
       "      <td>225.0</td>\n",
       "      <td>1200.0</td>\n",
       "      <td>[[196.591, 112.77, 196.784, 112.77], [196.974,...</td>\n",
       "    </tr>\n",
       "    <tr>\n",
       "      <th>19</th>\n",
       "      <td>0.0</td>\n",
       "      <td>5.0</td>\n",
       "      <td>1.0</td>\n",
       "      <td>235.0</td>\n",
       "      <td>1200.0</td>\n",
       "      <td>[[42.0485, 145.81, 42.1799, 145.81], [42.3697,...</td>\n",
       "    </tr>\n",
       "    <tr>\n",
       "      <th>21</th>\n",
       "      <td>0.0</td>\n",
       "      <td>5.0</td>\n",
       "      <td>1.0</td>\n",
       "      <td>245.0</td>\n",
       "      <td>1200.0</td>\n",
       "      <td>[[93.5585, 145.81, 93.6909, 145.81], [93.8825,...</td>\n",
       "    </tr>\n",
       "    <tr>\n",
       "      <th>23</th>\n",
       "      <td>0.0</td>\n",
       "      <td>5.0</td>\n",
       "      <td>1.0</td>\n",
       "      <td>255.0</td>\n",
       "      <td>1200.0</td>\n",
       "      <td>[[145.079, 145.81, 145.21, 145.81], [145.4, 14...</td>\n",
       "    </tr>\n",
       "    <tr>\n",
       "      <th>25</th>\n",
       "      <td>0.0</td>\n",
       "      <td>5.0</td>\n",
       "      <td>1.0</td>\n",
       "      <td>265.0</td>\n",
       "      <td>1200.0</td>\n",
       "      <td>[[196.599, 145.81, 196.73, 145.81], [196.92, 1...</td>\n",
       "    </tr>\n",
       "    <tr>\n",
       "      <th>27</th>\n",
       "      <td>0.0</td>\n",
       "      <td>5.0</td>\n",
       "      <td>1.0</td>\n",
       "      <td>275.0</td>\n",
       "      <td>1200.0</td>\n",
       "      <td>[[42.0558, 178.85, 42.1272, 178.85], [42.322, ...</td>\n",
       "    </tr>\n",
       "    <tr>\n",
       "      <th>29</th>\n",
       "      <td>0.0</td>\n",
       "      <td>5.0</td>\n",
       "      <td>1.0</td>\n",
       "      <td>285.0</td>\n",
       "      <td>1200.0</td>\n",
       "      <td>[[93.5658, 178.85, 93.6377, 178.85], [93.8344,...</td>\n",
       "    </tr>\n",
       "    <tr>\n",
       "      <th>31</th>\n",
       "      <td>0.0</td>\n",
       "      <td>5.0</td>\n",
       "      <td>1.0</td>\n",
       "      <td>295.0</td>\n",
       "      <td>1200.0</td>\n",
       "      <td>[[145.086, 178.85, 145.157, 178.85], [145.352,...</td>\n",
       "    </tr>\n",
       "  </tbody>\n",
       "</table>\n",
       "</div>"
      ],
      "text/plain": [
       "    laser_index  type  count  power   speed  \\\n",
       "1           0.0   5.0    1.0  255.0  1200.0   \n",
       "3           0.0   5.0    1.0  255.0  1200.0   \n",
       "5           0.0   5.0    1.0  255.0  1200.0   \n",
       "7           0.0   5.0    1.0  255.0  1200.0   \n",
       "9           0.0   5.0    1.0  255.0  1200.0   \n",
       "11          0.0   5.0    1.0  255.0  1200.0   \n",
       "13          0.0   5.0    1.0  255.0  1200.0   \n",
       "15          0.0   5.0    1.0  215.0  1200.0   \n",
       "17          0.0   5.0    1.0  225.0  1200.0   \n",
       "19          0.0   5.0    1.0  235.0  1200.0   \n",
       "21          0.0   5.0    1.0  245.0  1200.0   \n",
       "23          0.0   5.0    1.0  255.0  1200.0   \n",
       "25          0.0   5.0    1.0  265.0  1200.0   \n",
       "27          0.0   5.0    1.0  275.0  1200.0   \n",
       "29          0.0   5.0    1.0  285.0  1200.0   \n",
       "31          0.0   5.0    1.0  295.0  1200.0   \n",
       "\n",
       "                                             polyline  \n",
       "1   [[117.891, 39.27, 118.084, 39.27], [118.274, 3...  \n",
       "3   [[42.0485, 79.7, 42.1828, 79.7], [42.322, 79.7...  \n",
       "5   [[93.5658, 79.68, 93.6376, 79.68], [93.8063, 7...  \n",
       "7   [[145.093, 79.66, 145.101, 79.66], [145.296, 7...  \n",
       "9   [[196.606, 79.68, 196.677, 79.68], [196.9, 79....  \n",
       "11  [[42.0413, 112.77, 42.2341, 112.77], [42.4781,...  \n",
       "13  [[93.5404, 112.8, 93.8278, 112.8], [94.1015, 1...  \n",
       "15  [[145.071, 112.77, 145.264, 112.77], [145.454,...  \n",
       "17  [[196.591, 112.77, 196.784, 112.77], [196.974,...  \n",
       "19  [[42.0485, 145.81, 42.1799, 145.81], [42.3697,...  \n",
       "21  [[93.5585, 145.81, 93.6909, 145.81], [93.8825,...  \n",
       "23  [[145.079, 145.81, 145.21, 145.81], [145.4, 14...  \n",
       "25  [[196.599, 145.81, 196.73, 145.81], [196.92, 1...  \n",
       "27  [[42.0558, 178.85, 42.1272, 178.85], [42.322, ...  \n",
       "29  [[93.5658, 178.85, 93.6377, 178.85], [93.8344,...  \n",
       "31  [[145.086, 178.85, 145.157, 178.85], [145.352,...  "
      ]
     },
     "execution_count": 5,
     "metadata": {},
     "output_type": "execute_result"
    }
   ],
   "source": [
    "data_feature_sinter_1"
   ]
  },
  {
   "cell_type": "code",
   "execution_count": 6,
   "id": "8c58adfc",
   "metadata": {
    "ExecuteTime": {
     "end_time": "2022-07-25T05:56:49.339579Z",
     "start_time": "2022-07-25T05:56:32.009568Z"
    }
   },
   "outputs": [
    {
     "data": {
      "image/png": "[encoded data removed]",
      "text/plain": [
       "<Figure size 720x720 with 1 Axes>"
      ]
     },
     "metadata": {
      "needs_background": "light"
     },
     "output_type": "display_data"
    }
   ],
   "source": [
    "plt.figure(figsize=(10,10))\n",
    "plt.xlim(0,258)\n",
    "plt.ylim(0,258)\n",
    "\n",
    "for row_index in data_feature_sinter_1.index:\n",
    "    poly_data = data_feature_sinter_1.loc[row_index,'polyline']\n",
    "    for i in range(len(poly_data)):\n",
    "        poly_data[i] = np.array(poly_data[i]).reshape(-1,1,2)\n",
    "        plt.plot(poly_data[i][:,:,0],poly_data[i][:,:,1],ls = '-',c='r')\n",
    "\n",
    "plt.show()"
   ]
  },
  {
   "cell_type": "markdown",
   "id": "0a5ae7f1",
   "metadata": {},
   "source": [
    "## 按特征分组特征数据"
   ]
  },
  {
   "cell_type": "code",
   "execution_count": 20,
   "id": "d998703e",
   "metadata": {
    "ExecuteTime": {
     "end_time": "2022-07-18T06:07:07.522616Z",
     "start_time": "2022-07-18T06:07:07.508525Z"
    }
   },
   "outputs": [],
   "source": [
    "group = data_feature.groupby('type')"
   ]
  },
  {
   "cell_type": "code",
   "execution_count": 23,
   "id": "56296a48",
   "metadata": {
    "ExecuteTime": {
     "end_time": "2022-07-18T06:08:32.012743Z",
     "start_time": "2022-07-18T06:08:31.354894Z"
    }
   },
   "outputs": [
    {
     "name": "stdout",
     "output_type": "stream",
     "text": [
      "5.0\n",
      "    laser_index  type  count  power   speed  \\\n",
      "1           0.0   5.0    1.0  255.0  1200.0   \n",
      "3           0.0   5.0    1.0  255.0  1200.0   \n",
      "5           0.0   5.0    1.0  255.0  1200.0   \n",
      "7           0.0   5.0    1.0  255.0  1200.0   \n",
      "9           0.0   5.0    1.0  255.0  1200.0   \n",
      "11          0.0   5.0    1.0  255.0  1200.0   \n",
      "13          0.0   5.0    1.0  255.0  1200.0   \n",
      "15          0.0   5.0    1.0  215.0  1200.0   \n",
      "17          0.0   5.0    1.0  225.0  1200.0   \n",
      "19          0.0   5.0    1.0  235.0  1200.0   \n",
      "21          0.0   5.0    1.0  245.0  1200.0   \n",
      "23          0.0   5.0    1.0  255.0  1200.0   \n",
      "25          0.0   5.0    1.0  265.0  1200.0   \n",
      "27          0.0   5.0    1.0  275.0  1200.0   \n",
      "29          0.0   5.0    1.0  285.0  1200.0   \n",
      "31          0.0   5.0    1.0  295.0  1200.0   \n",
      "\n",
      "                                             polyline  \n",
      "1   [[[[117.891  39.27 ]], [[118.084  39.27 ]]], [...  \n",
      "3   [[[[42.0485 79.7   ]], [[42.1828 79.7   ]]], [...  \n",
      "5   [[[[93.5658 79.68  ]], [[93.6376 79.68  ]]], [...  \n",
      "7   [[[[145.093  79.66 ]], [[145.101  79.66 ]]], [...  \n",
      "9   [[[[196.606  79.68 ]], [[196.677  79.68 ]]], [...  \n",
      "11  [[[[ 42.0413 112.77  ]], [[ 42.2341 112.77  ]]...  \n",
      "13  [[[[ 93.5404 112.8   ]], [[ 93.8278 112.8   ]]...  \n",
      "15  [[[[145.071 112.77 ]], [[145.264 112.77 ]]], [...  \n",
      "17  [[[[196.591 112.77 ]], [[196.784 112.77 ]]], [...  \n",
      "19  [[[[ 42.0485 145.81  ]], [[ 42.1799 145.81  ]]...  \n",
      "21  [[[[ 93.5585 145.81  ]], [[ 93.6909 145.81  ]]...  \n",
      "23  [[[[145.079 145.81 ]], [[145.21 145.81]]], [[[...  \n",
      "25  [[[[196.599 145.81 ]], [[196.73 145.81]]], [[[...  \n",
      "27  [[[[ 42.0558 178.85  ]], [[ 42.1272 178.85  ]]...  \n",
      "29  [[[[ 93.5658 178.85  ]], [[ 93.6377 178.85  ]]...  \n",
      "31  [[[[145.086 178.85 ]], [[145.157 178.85 ]]], [...  \n",
      "\n",
      "11.0\n",
      "    laser_index  type  count  power  speed  \\\n",
      "0           0.0  11.0    0.0    0.0    0.0   \n",
      "2           0.0  11.0    0.0    0.0    0.0   \n",
      "4           0.0  11.0    0.0    0.0    0.0   \n",
      "6           0.0  11.0    0.0    0.0    0.0   \n",
      "8           0.0  11.0    0.0    0.0    0.0   \n",
      "10          0.0  11.0    0.0    0.0    0.0   \n",
      "12          0.0  11.0    0.0    0.0    0.0   \n",
      "14          0.0  11.0    0.0    0.0    0.0   \n",
      "16          0.0  11.0    0.0    0.0    0.0   \n",
      "18          0.0  11.0    0.0    0.0    0.0   \n",
      "20          0.0  11.0    0.0    0.0    0.0   \n",
      "22          0.0  11.0    0.0    0.0    0.0   \n",
      "24          0.0  11.0    0.0    0.0    0.0   \n",
      "26          0.0  11.0    0.0    0.0    0.0   \n",
      "28          0.0  11.0    0.0    0.0    0.0   \n",
      "30          0.0  11.0    0.0    0.0    0.0   \n",
      "\n",
      "                                             polyline  \n",
      "0   [[[[122.7   49.48]], [[121.66  49.1 ]], [[115....  \n",
      "2   [[[[49.21 83.44]], [[46.85 89.92]], [[45.81 89...  \n",
      "4   [[[[101.1  82.4]], [[100.72  83.44]], [[98.36 ...  \n",
      "6   [[[[152.24  83.44]], [[149.88  89.92]], [[148....  \n",
      "8   [[[[203.76  83.44]], [[201.4   89.92]], [[200....  \n",
      "10  [[[[ 45.81 122.6 ]], [[ 39.33 120.24]], [[ 39....  \n",
      "12  [[[[ 90.85 120.24]], [[ 91.22 119.21]], [[ 93....  \n",
      "14  [[[[152.24 116.49]], [[149.88 122.98]], [[148....  \n",
      "16  [[[[203.76 116.49]], [[201.4  122.98]], [[200....  \n",
      "18  [[[[ 43.1  146.16]], [[ 49.58 148.52]], [[ 49....  \n",
      "20  [[[[ 91.22 152.26]], [[ 93.58 145.78]], [[ 94....  \n",
      "22  [[[[152.24 149.55]], [[149.88 156.03]], [[148....  \n",
      "24  [[[[203.76 149.55]], [[201.4  156.03]], [[200....  \n",
      "26  [[[[ 49.21 182.61]], [[ 46.85 189.09]], [[ 45....  \n",
      "28  [[[[100.72 182.61]], [[ 98.36 189.09]], [[ 97....  \n",
      "30  [[[[152.24 182.61]], [[149.88 189.09]], [[148....  \n",
      "\n"
     ]
    }
   ],
   "source": [
    "for key, df in group:\n",
    "    print(key)\n",
    "    print(df)\n",
    "    print(\"\")"
   ]
  },
  {
   "cell_type": "markdown",
   "id": "17213efe",
   "metadata": {},
   "source": [
    "# 加载熔池数据"
   ]
  },
  {
   "cell_type": "markdown",
   "id": "e3bc89a2",
   "metadata": {
    "ExecuteTime": {
     "end_time": "2022-07-19T12:44:13.821748Z",
     "start_time": "2022-07-19T12:44:13.804626Z"
    }
   },
   "source": [
    "## 加载数据，并将数据表格化"
   ]
  },
  {
   "cell_type": "code",
   "execution_count": 5,
   "id": "0d393d12",
   "metadata": {
    "ExecuteTime": {
     "end_time": "2022-08-01T09:13:19.624652Z",
     "start_time": "2022-08-01T09:13:04.992604Z"
    }
   },
   "outputs": [],
   "source": [
    "#加载数据，并将数据表格化\n",
    "data_pd_0 = np.loadtxt(r'C:\\jupyter notebook\\熔池数据\\k438layer103\\Data\\channel1_20210316121817.txt')\n",
    "data_sw = np.loadtxt(r'C:\\jupyter notebook\\熔池数据\\k438layer103\\Data\\channel2_20210316121817.txt')\n",
    "data_pw = np.loadtxt(r'C:\\jupyter notebook\\熔池数据\\k438layer103\\Data\\channel3_20210316121817.txt')\n",
    "\n",
    "mp_df =pd.concat([pd.DataFrame({'data_pd_0': data_pd_0}) ,pd.DataFrame({'data_sw':data_sw}),\n",
    "                      pd.DataFrame({'data_pw':data_pw})],axis=1)"
   ]
  },
  {
   "cell_type": "code",
   "execution_count": 25,
   "id": "d4f78254",
   "metadata": {
    "ExecuteTime": {
     "end_time": "2022-07-25T08:59:01.508636Z",
     "start_time": "2022-07-25T08:59:01.029416Z"
    }
   },
   "outputs": [
    {
     "data": {
      "text/plain": [
       "<AxesSubplot:>"
      ]
     },
     "execution_count": 25,
     "metadata": {},
     "output_type": "execute_result"
    },
    {
     "data": {
      "image/png": "[encoded data removed]",
      "text/plain": [
       "<Figure size 432x288 with 1 Axes>"
      ]
     },
     "metadata": {
      "needs_background": "light"
     },
     "output_type": "display_data"
    }
   ],
   "source": [
    "mp_df[1111000:1112000].plot()"
   ]
  },
  {
   "cell_type": "markdown",
   "id": "18c6bfc2",
   "metadata": {},
   "source": [
    "## 数据滤波"
   ]
  },
  {
   "cell_type": "code",
   "execution_count": 6,
   "id": "6c5f1f79",
   "metadata": {
    "ExecuteTime": {
     "end_time": "2022-08-01T09:13:31.459176Z",
     "start_time": "2022-08-01T09:13:21.865409Z"
    }
   },
   "outputs": [],
   "source": [
    "#对熔池三路数据进行中值滤波降噪\n",
    "mp_df = mp_df.fillna(method='ffill')\n",
    "mp_df['data_pd_0'] = signal.medfilt(mp_df['data_pd_0'],5)\n",
    "mp_df['data_sw'] = signal.medfilt(mp_df['data_sw'],5)\n",
    "mp_df['data_pw'] = signal.medfilt(mp_df['data_pw'],15)"
   ]
  },
  {
   "cell_type": "code",
   "execution_count": 10,
   "id": "ef78f254",
   "metadata": {
    "ExecuteTime": {
     "end_time": "2022-07-25T05:58:08.502044Z",
     "start_time": "2022-07-25T05:58:08.036640Z"
    },
    "scrolled": true
   },
   "outputs": [
    {
     "data": {
      "text/plain": [
       "<AxesSubplot:>"
      ]
     },
     "execution_count": 10,
     "metadata": {},
     "output_type": "execute_result"
    },
    {
     "data": {
      "image/png": "[encoded data removed]",
      "text/plain": [
       "<Figure size 432x288 with 1 Axes>"
      ]
     },
     "metadata": {
      "needs_background": "light"
     },
     "output_type": "display_data"
    }
   ],
   "source": [
    "mp_df[1111000:1112000].plot()"
   ]
  },
  {
   "cell_type": "code",
   "execution_count": 11,
   "id": "032e6c8e",
   "metadata": {
    "ExecuteTime": {
     "end_time": "2022-07-25T05:58:23.102910Z",
     "start_time": "2022-07-25T05:58:22.097857Z"
    },
    "scrolled": false
   },
   "outputs": [
    {
     "data": {
      "text/plain": [
       "<AxesSubplot:>"
      ]
     },
     "execution_count": 11,
     "metadata": {},
     "output_type": "execute_result"
    },
    {
     "data": {
      "image/png": "[encoded data removed]",
      "text/plain": [
       "<Figure size 432x288 with 1 Axes>"
      ]
     },
     "metadata": {
      "needs_background": "light"
     },
     "output_type": "display_data"
    }
   ],
   "source": [
    "mp_df['data_pw'].plot()"
   ]
  },
  {
   "cell_type": "code",
   "execution_count": 138,
   "id": "c17b416e",
   "metadata": {
    "ExecuteTime": {
     "end_time": "2022-07-20T10:25:41.692454Z",
     "start_time": "2022-07-20T10:25:41.464191Z"
    }
   },
   "outputs": [],
   "source": [
    "# # 计算时间\n",
    "# fs = 50E3 #频率\n",
    "# t = [i/fs for i in range(len(mp_df['data_sw']))] "
   ]
  },
  {
   "cell_type": "code",
   "execution_count": 7,
   "id": "f135ed93",
   "metadata": {
    "ExecuteTime": {
     "end_time": "2022-08-01T09:13:33.726538Z",
     "start_time": "2022-08-01T09:13:33.713478Z"
    }
   },
   "outputs": [],
   "source": [
    "#不同频率采样，数据等间隔求差计算功率分割\n",
    "import math\n",
    "fs = 50E3 \n",
    "pw_interval = max(math.ceil(fs/25E3),1) #25E3是将不同采样率进行归一化取整的等间隔参数，可修改。ceil向上取整"
   ]
  },
  {
   "cell_type": "markdown",
   "id": "5e91535e",
   "metadata": {},
   "source": [
    "## 功率分段"
   ]
  },
  {
   "cell_type": "markdown",
   "id": "fa9b101d",
   "metadata": {},
   "source": [
    "- 内嵌函数算子目前存在取变化值不合理问题。"
   ]
  },
  {
   "cell_type": "code",
   "execution_count": 15,
   "id": "544363ee",
   "metadata": {
    "ExecuteTime": {
     "end_time": "2022-07-21T04:37:23.171245Z",
     "start_time": "2022-07-21T04:35:49.180750Z"
    }
   },
   "outputs": [],
   "source": [
    "constant_pw_split = 50 #功率分割判断常量\n",
    "\n",
    "#写法运算更快，上升沿取值一致，下降沿取值不一致\n",
    "power_change_index = [i for i in range(pw_interval,len(mp_df['data_pw']) - pw_interval)\\\n",
    "                     if abs(mp_df['data_pw'].iloc[i] - mp_df['data_pw'].iloc[i-pw_interval])\n",
    "                      >= constant_pw_split]\n",
    "\n",
    "# for i in range(len(mp_df['data_pw']) - pw_interval):\n",
    "#     if mp_df['data_pw'].iloc[i+pw_interval] - mp_df['data_pw'].iloc[i] >= constant_pw_split:\n",
    "#         power_change_index.append(i+pw_interval)\n",
    "#     elif mp_df['data_pw'].iloc[i+pw_interval] - mp_df['data_pw'].iloc[i] <= -constant_pw_split:\n",
    "#         power_change_index.append(i)\n"
   ]
  },
  {
   "cell_type": "code",
   "execution_count": 16,
   "id": "a279b968",
   "metadata": {
    "ExecuteTime": {
     "end_time": "2022-07-21T04:37:36.561779Z",
     "start_time": "2022-07-21T04:37:36.533417Z"
    },
    "scrolled": true
   },
   "outputs": [
    {
     "data": {
      "text/plain": [
       "[525541,\n",
       " 525542,\n",
       " 1212006,\n",
       " 1212007,\n",
       " 1309077,\n",
       " 1309078,\n",
       " 1309079,\n",
       " 1410839,\n",
       " 1410840,\n",
       " 1511023,\n",
       " 1511024,\n",
       " 1605796,\n",
       " 1605797,\n",
       " 1702895,\n",
       " 1702896,\n",
       " 1804665,\n",
       " 1804666,\n",
       " 1904852,\n",
       " 1904853,\n",
       " 1999613,\n",
       " 1999614,\n",
       " 2096713,\n",
       " 2096714]"
      ]
     },
     "execution_count": 16,
     "metadata": {},
     "output_type": "execute_result"
    }
   ],
   "source": [
    "power_change_index"
   ]
  },
  {
   "cell_type": "code",
   "execution_count": 8,
   "id": "db18031a",
   "metadata": {
    "ExecuteTime": {
     "end_time": "2022-08-01T09:16:32.803146Z",
     "start_time": "2022-08-01T09:13:35.966837Z"
    }
   },
   "outputs": [],
   "source": [
    "# 运算更慢\n",
    "constant_pw_split = 50 #功率分割判断常量\n",
    "\n",
    "power_change_index = []\n",
    "for i in range(len(mp_df['data_pw']) - pw_interval):\n",
    "    if mp_df['data_pw'].iloc[i+pw_interval] - mp_df['data_pw'].iloc[i] >= constant_pw_split:\n",
    "        power_change_index.append(i+pw_interval)\n",
    "    elif mp_df['data_pw'].iloc[i+pw_interval] - mp_df['data_pw'].iloc[i] <= -constant_pw_split:\n",
    "        power_change_index.append(i)"
   ]
  },
  {
   "cell_type": "code",
   "execution_count": 29,
   "id": "b691303e",
   "metadata": {
    "ExecuteTime": {
     "end_time": "2022-07-25T09:03:15.481201Z",
     "start_time": "2022-07-25T09:03:15.455401Z"
    },
    "scrolled": true
   },
   "outputs": [
    {
     "data": {
      "text/plain": [
       "[525541,\n",
       " 525542,\n",
       " 1212004,\n",
       " 1212005,\n",
       " 1309077,\n",
       " 1309078,\n",
       " 1309079,\n",
       " 1410839,\n",
       " 1410840,\n",
       " 1511023,\n",
       " 1511024,\n",
       " 1605796,\n",
       " 1605797,\n",
       " 1702895,\n",
       " 1702896,\n",
       " 1804665,\n",
       " 1804666,\n",
       " 1904852,\n",
       " 1904853,\n",
       " 1999613,\n",
       " 1999614,\n",
       " 2096711,\n",
       " 2096712]"
      ]
     },
     "execution_count": 29,
     "metadata": {},
     "output_type": "execute_result"
    }
   ],
   "source": [
    "power_change_index"
   ]
  },
  {
   "cell_type": "code",
   "execution_count": 104,
   "id": "8c7e9a7c",
   "metadata": {
    "ExecuteTime": {
     "end_time": "2022-07-20T05:51:43.914546Z",
     "start_time": "2022-07-20T05:51:43.506969Z"
    }
   },
   "outputs": [
    {
     "data": {
      "text/plain": [
       "<AxesSubplot:>"
      ]
     },
     "execution_count": 104,
     "metadata": {},
     "output_type": "execute_result"
    },
    {
     "data": {
      "image/png": "[encoded data removed]",
      "text/plain": [
       "<Figure size 432x288 with 1 Axes>"
      ]
     },
     "metadata": {
      "needs_background": "light"
     },
     "output_type": "display_data"
    }
   ],
   "source": [
    "mp_df['data_pw'][525539:525545].plot()"
   ]
  },
  {
   "cell_type": "code",
   "execution_count": 102,
   "id": "29695e7d",
   "metadata": {
    "ExecuteTime": {
     "end_time": "2022-07-20T05:28:43.775201Z",
     "start_time": "2022-07-20T05:28:43.342385Z"
    }
   },
   "outputs": [
    {
     "data": {
      "text/plain": [
       "<AxesSubplot:>"
      ]
     },
     "execution_count": 102,
     "metadata": {},
     "output_type": "execute_result"
    },
    {
     "data": {
      "image/png": "[encoded data removed]",
      "text/plain": [
       "<Figure size 432x288 with 1 Axes>"
      ]
     },
     "metadata": {
      "needs_background": "light"
     },
     "output_type": "display_data"
    }
   ],
   "source": [
    "mp_df['data_pw'][1212004:1212008].plot()"
   ]
  },
  {
   "cell_type": "code",
   "execution_count": 105,
   "id": "47afae98",
   "metadata": {
    "ExecuteTime": {
     "end_time": "2022-07-20T05:53:38.261612Z",
     "start_time": "2022-07-20T05:53:37.854447Z"
    },
    "scrolled": true
   },
   "outputs": [
    {
     "data": {
      "text/plain": [
       "<AxesSubplot:>"
      ]
     },
     "execution_count": 105,
     "metadata": {},
     "output_type": "execute_result"
    },
    {
     "data": {
      "image/png": "[encoded data removed]",
      "text/plain": [
       "<Figure size 432x288 with 1 Axes>"
      ]
     },
     "metadata": {
      "needs_background": "light"
     },
     "output_type": "display_data"
    }
   ],
   "source": [
    "mp_df['data_pw'][2096709:2096715].plot()"
   ]
  },
  {
   "cell_type": "code",
   "execution_count": 23,
   "id": "a5c24c96",
   "metadata": {
    "ExecuteTime": {
     "end_time": "2022-07-22T02:54:10.846314Z",
     "start_time": "2022-07-22T02:54:10.588498Z"
    }
   },
   "outputs": [
    {
     "data": {
      "text/plain": [
       "<AxesSubplot:>"
      ]
     },
     "execution_count": 23,
     "metadata": {},
     "output_type": "execute_result"
    },
    {
     "data": {
      "image/png": "[encoded data removed]",
      "text/plain": [
       "<Figure size 432x288 with 1 Axes>"
      ]
     },
     "metadata": {
      "needs_background": "light"
     },
     "output_type": "display_data"
    }
   ],
   "source": [
    "mp_df['data_pw'][1309077:1309085].plot()"
   ]
  },
  {
   "cell_type": "markdown",
   "id": "e02dad0a",
   "metadata": {},
   "source": [
    "- 功率降低时，应取变化前的最后一个索引位置"
   ]
  },
  {
   "cell_type": "code",
   "execution_count": 46,
   "id": "70143e89",
   "metadata": {
    "ExecuteTime": {
     "end_time": "2022-07-19T10:27:12.781307Z",
     "start_time": "2022-07-19T10:27:12.770361Z"
    }
   },
   "outputs": [],
   "source": [
    "# 阶跃大于constant_pw_split存在两个或以上连续点，剔除并留一个\n",
    "# power_change_index_new = []\n",
    "\n",
    "# for i in range(len(power_change_index)-1):\n",
    "#     if abs(power_change_index[i+1]-power_change_index[i]) >=2: #保留一组最后点数,\n",
    "#         power_change_index_new.append(power_change_index[i])\n",
    "        \n",
    "# power_change_index_new.append(power_change_index[-1]) "
   ]
  },
  {
   "cell_type": "code",
   "execution_count": 9,
   "id": "7d109f64",
   "metadata": {
    "ExecuteTime": {
     "end_time": "2022-08-01T09:16:35.042122Z",
     "start_time": "2022-08-01T09:16:35.015420Z"
    }
   },
   "outputs": [],
   "source": [
    "# 阶跃大于constant_pw_split存在两个或以上连续点，剔除并留一个\n",
    "power_change_index_new = [power_change_index[i] for i in range(len(power_change_index)-1)\\\n",
    "                         if abs(power_change_index[i+1]-power_change_index[i]) >=2] #保留一组最后点数,\n",
    "power_change_index_new.append(power_change_index[-1])"
   ]
  },
  {
   "cell_type": "code",
   "execution_count": 10,
   "id": "3df5d8cf",
   "metadata": {
    "ExecuteTime": {
     "end_time": "2022-08-01T09:16:37.280018Z",
     "start_time": "2022-08-01T09:16:37.246126Z"
    },
    "scrolled": false
   },
   "outputs": [
    {
     "data": {
      "text/plain": [
       "[525542,\n",
       " 1212005,\n",
       " 1309079,\n",
       " 1410840,\n",
       " 1511024,\n",
       " 1605797,\n",
       " 1702896,\n",
       " 1804666,\n",
       " 1904853,\n",
       " 1999614,\n",
       " 2096712]"
      ]
     },
     "execution_count": 10,
     "metadata": {},
     "output_type": "execute_result"
    }
   ],
   "source": [
    "power_change_index_new"
   ]
  },
  {
   "cell_type": "code",
   "execution_count": 11,
   "id": "bd87bb7c",
   "metadata": {
    "ExecuteTime": {
     "end_time": "2022-08-01T09:16:39.456832Z",
     "start_time": "2022-08-01T09:16:39.428567Z"
    }
   },
   "outputs": [],
   "source": [
    "if power_change_index_new ==[] or len(power_change_index_new) <=1:\n",
    "    print('错误，该层数据损坏；未找到匹配功率数据')"
   ]
  },
  {
   "cell_type": "markdown",
   "id": "3f7b8546",
   "metadata": {},
   "source": [
    "## 开关索引"
   ]
  },
  {
   "cell_type": "code",
   "execution_count": 33,
   "id": "0500d955",
   "metadata": {
    "ExecuteTime": {
     "end_time": "2022-07-25T09:04:09.298792Z",
     "start_time": "2022-07-25T09:04:09.266614Z"
    }
   },
   "outputs": [
    {
     "data": {
      "text/html": [
       "<div>\n",
       "<style scoped>\n",
       "    .dataframe tbody tr th:only-of-type {\n",
       "        vertical-align: middle;\n",
       "    }\n",
       "\n",
       "    .dataframe tbody tr th {\n",
       "        vertical-align: top;\n",
       "    }\n",
       "\n",
       "    .dataframe thead th {\n",
       "        text-align: right;\n",
       "    }\n",
       "</style>\n",
       "<table border=\"1\" class=\"dataframe\">\n",
       "  <thead>\n",
       "    <tr style=\"text-align: right;\">\n",
       "      <th></th>\n",
       "      <th>data_pd_0</th>\n",
       "      <th>data_sw</th>\n",
       "      <th>data_pw</th>\n",
       "    </tr>\n",
       "  </thead>\n",
       "  <tbody>\n",
       "    <tr>\n",
       "      <th>0</th>\n",
       "      <td>-4.27</td>\n",
       "      <td>7.02</td>\n",
       "      <td>4.58</td>\n",
       "    </tr>\n",
       "    <tr>\n",
       "      <th>1</th>\n",
       "      <td>-5.19</td>\n",
       "      <td>7.02</td>\n",
       "      <td>4.58</td>\n",
       "    </tr>\n",
       "    <tr>\n",
       "      <th>2</th>\n",
       "      <td>-6.41</td>\n",
       "      <td>7.02</td>\n",
       "      <td>5.19</td>\n",
       "    </tr>\n",
       "    <tr>\n",
       "      <th>3</th>\n",
       "      <td>-6.41</td>\n",
       "      <td>7.02</td>\n",
       "      <td>5.80</td>\n",
       "    </tr>\n",
       "    <tr>\n",
       "      <th>4</th>\n",
       "      <td>-6.41</td>\n",
       "      <td>3.36</td>\n",
       "      <td>6.41</td>\n",
       "    </tr>\n",
       "  </tbody>\n",
       "</table>\n",
       "</div>"
      ],
      "text/plain": [
       "   data_pd_0  data_sw  data_pw\n",
       "0      -4.27     7.02     4.58\n",
       "1      -5.19     7.02     4.58\n",
       "2      -6.41     7.02     5.19\n",
       "3      -6.41     7.02     5.80\n",
       "4      -6.41     3.36     6.41"
      ]
     },
     "execution_count": 33,
     "metadata": {},
     "output_type": "execute_result"
    }
   ],
   "source": [
    "mp_df.head()"
   ]
  },
  {
   "cell_type": "markdown",
   "id": "2e235f2e",
   "metadata": {
    "ExecuteTime": {
     "end_time": "2022-07-19T14:53:15.962398Z",
     "start_time": "2022-07-19T14:53:15.942165Z"
    }
   },
   "source": [
    "- lambda用法 x = lambda n: n if n%10 == 0 else ( n**2 if n%2 == 0 else n**3 )"
   ]
  },
  {
   "cell_type": "code",
   "execution_count": 12,
   "id": "066bbdeb",
   "metadata": {
    "ExecuteTime": {
     "end_time": "2022-08-01T09:16:43.472027Z",
     "start_time": "2022-08-01T09:16:41.652008Z"
    }
   },
   "outputs": [],
   "source": [
    "constant_sw_split = 2500\n",
    "\n",
    "mp_df['data_sw'] = mp_df['data_sw'].apply(lambda x:0 if x <= constant_sw_split else 1)"
   ]
  },
  {
   "cell_type": "code",
   "execution_count": 35,
   "id": "dbc78886",
   "metadata": {
    "ExecuteTime": {
     "end_time": "2022-07-25T09:04:38.915845Z",
     "start_time": "2022-07-25T09:04:38.578131Z"
    }
   },
   "outputs": [
    {
     "data": {
      "text/plain": [
       "<AxesSubplot:>"
      ]
     },
     "execution_count": 35,
     "metadata": {},
     "output_type": "execute_result"
    },
    {
     "data": {
      "image/png": "[encoded data removed]",
      "text/plain": [
       "<Figure size 432x288 with 1 Axes>"
      ]
     },
     "metadata": {
      "needs_background": "light"
     },
     "output_type": "display_data"
    }
   ],
   "source": [
    "mp_df['data_sw'][1111000:1112000].plot()"
   ]
  },
  {
   "cell_type": "code",
   "execution_count": 117,
   "id": "411506d6",
   "metadata": {
    "ExecuteTime": {
     "end_time": "2022-07-20T06:24:47.737004Z",
     "start_time": "2022-07-20T06:24:47.710515Z"
    }
   },
   "outputs": [
    {
     "data": {
      "text/plain": [
       "0          NaN\n",
       "1          0.0\n",
       "2          0.0\n",
       "3          0.0\n",
       "4          0.0\n",
       "          ... \n",
       "2098021    0.0\n",
       "2098022    0.0\n",
       "2098023    0.0\n",
       "2098024    0.0\n",
       "2098025    0.0\n",
       "Name: data_sw, Length: 2098026, dtype: float64"
      ]
     },
     "execution_count": 117,
     "metadata": {},
     "output_type": "execute_result"
    }
   ],
   "source": [
    "mp_df['data_sw'].diff()"
   ]
  },
  {
   "cell_type": "code",
   "execution_count": 13,
   "id": "854f444b",
   "metadata": {
    "ExecuteTime": {
     "end_time": "2022-08-01T09:16:45.736697Z",
     "start_time": "2022-08-01T09:16:45.653045Z"
    }
   },
   "outputs": [],
   "source": [
    "indexup = mp_df[mp_df['data_sw'].diff()>0].index.to_numpy()\n",
    "indexdown = mp_df[mp_df['data_sw'].diff()<0].index.to_numpy()"
   ]
  },
  {
   "cell_type": "code",
   "execution_count": 14,
   "id": "30c329cb",
   "metadata": {
    "ExecuteTime": {
     "end_time": "2022-08-01T09:16:47.960279Z",
     "start_time": "2022-08-01T09:16:47.934171Z"
    }
   },
   "outputs": [],
   "source": [
    "num_sw = len(indexdown)"
   ]
  },
  {
   "cell_type": "markdown",
   "id": "398846d1",
   "metadata": {},
   "source": [
    "# 路径数据与熔池数据关联\n",
    "## 熔池数据按功率分割编号，开关编号"
   ]
  },
  {
   "cell_type": "code",
   "execution_count": 38,
   "id": "ab7073f7",
   "metadata": {
    "ExecuteTime": {
     "end_time": "2022-07-25T09:06:49.165939Z",
     "start_time": "2022-07-25T09:06:44.317735Z"
    },
    "scrolled": false
   },
   "outputs": [
    {
     "data": {
      "text/html": [
       "<div>\n",
       "<style scoped>\n",
       "    .dataframe tbody tr th:only-of-type {\n",
       "        vertical-align: middle;\n",
       "    }\n",
       "\n",
       "    .dataframe tbody tr th {\n",
       "        vertical-align: top;\n",
       "    }\n",
       "\n",
       "    .dataframe thead th {\n",
       "        text-align: right;\n",
       "    }\n",
       "</style>\n",
       "<table border=\"1\" class=\"dataframe\">\n",
       "  <thead>\n",
       "    <tr style=\"text-align: right;\">\n",
       "      <th></th>\n",
       "      <th>laser_index</th>\n",
       "      <th>type</th>\n",
       "      <th>count</th>\n",
       "      <th>power</th>\n",
       "      <th>speed</th>\n",
       "      <th>polyline</th>\n",
       "    </tr>\n",
       "  </thead>\n",
       "  <tbody>\n",
       "    <tr>\n",
       "      <th>1</th>\n",
       "      <td>0.0</td>\n",
       "      <td>5.0</td>\n",
       "      <td>1.0</td>\n",
       "      <td>255.0</td>\n",
       "      <td>1200.0</td>\n",
       "      <td>[[[[117.891  39.27 ]], [[118.084  39.27 ]]], [...</td>\n",
       "    </tr>\n",
       "    <tr>\n",
       "      <th>3</th>\n",
       "      <td>0.0</td>\n",
       "      <td>5.0</td>\n",
       "      <td>1.0</td>\n",
       "      <td>255.0</td>\n",
       "      <td>1200.0</td>\n",
       "      <td>[[[[42.0485 79.7   ]], [[42.1828 79.7   ]]], [...</td>\n",
       "    </tr>\n",
       "    <tr>\n",
       "      <th>5</th>\n",
       "      <td>0.0</td>\n",
       "      <td>5.0</td>\n",
       "      <td>1.0</td>\n",
       "      <td>255.0</td>\n",
       "      <td>1200.0</td>\n",
       "      <td>[[[[93.5658 79.68  ]], [[93.6376 79.68  ]]], [...</td>\n",
       "    </tr>\n",
       "    <tr>\n",
       "      <th>7</th>\n",
       "      <td>0.0</td>\n",
       "      <td>5.0</td>\n",
       "      <td>1.0</td>\n",
       "      <td>255.0</td>\n",
       "      <td>1200.0</td>\n",
       "      <td>[[[[145.093  79.66 ]], [[145.101  79.66 ]]], [...</td>\n",
       "    </tr>\n",
       "    <tr>\n",
       "      <th>9</th>\n",
       "      <td>0.0</td>\n",
       "      <td>5.0</td>\n",
       "      <td>1.0</td>\n",
       "      <td>255.0</td>\n",
       "      <td>1200.0</td>\n",
       "      <td>[[[[196.606  79.68 ]], [[196.677  79.68 ]]], [...</td>\n",
       "    </tr>\n",
       "    <tr>\n",
       "      <th>11</th>\n",
       "      <td>0.0</td>\n",
       "      <td>5.0</td>\n",
       "      <td>1.0</td>\n",
       "      <td>255.0</td>\n",
       "      <td>1200.0</td>\n",
       "      <td>[[[[ 42.0413 112.77  ]], [[ 42.2341 112.77  ]]...</td>\n",
       "    </tr>\n",
       "    <tr>\n",
       "      <th>13</th>\n",
       "      <td>0.0</td>\n",
       "      <td>5.0</td>\n",
       "      <td>1.0</td>\n",
       "      <td>255.0</td>\n",
       "      <td>1200.0</td>\n",
       "      <td>[[[[ 93.5404 112.8   ]], [[ 93.8278 112.8   ]]...</td>\n",
       "    </tr>\n",
       "    <tr>\n",
       "      <th>15</th>\n",
       "      <td>0.0</td>\n",
       "      <td>5.0</td>\n",
       "      <td>1.0</td>\n",
       "      <td>215.0</td>\n",
       "      <td>1200.0</td>\n",
       "      <td>[[[[145.071 112.77 ]], [[145.264 112.77 ]]], [...</td>\n",
       "    </tr>\n",
       "    <tr>\n",
       "      <th>17</th>\n",
       "      <td>0.0</td>\n",
       "      <td>5.0</td>\n",
       "      <td>1.0</td>\n",
       "      <td>225.0</td>\n",
       "      <td>1200.0</td>\n",
       "      <td>[[[[196.591 112.77 ]], [[196.784 112.77 ]]], [...</td>\n",
       "    </tr>\n",
       "    <tr>\n",
       "      <th>19</th>\n",
       "      <td>0.0</td>\n",
       "      <td>5.0</td>\n",
       "      <td>1.0</td>\n",
       "      <td>235.0</td>\n",
       "      <td>1200.0</td>\n",
       "      <td>[[[[ 42.0485 145.81  ]], [[ 42.1799 145.81  ]]...</td>\n",
       "    </tr>\n",
       "    <tr>\n",
       "      <th>21</th>\n",
       "      <td>0.0</td>\n",
       "      <td>5.0</td>\n",
       "      <td>1.0</td>\n",
       "      <td>245.0</td>\n",
       "      <td>1200.0</td>\n",
       "      <td>[[[[ 93.5585 145.81  ]], [[ 93.6909 145.81  ]]...</td>\n",
       "    </tr>\n",
       "    <tr>\n",
       "      <th>23</th>\n",
       "      <td>0.0</td>\n",
       "      <td>5.0</td>\n",
       "      <td>1.0</td>\n",
       "      <td>255.0</td>\n",
       "      <td>1200.0</td>\n",
       "      <td>[[[[145.079 145.81 ]], [[145.21 145.81]]], [[[...</td>\n",
       "    </tr>\n",
       "    <tr>\n",
       "      <th>25</th>\n",
       "      <td>0.0</td>\n",
       "      <td>5.0</td>\n",
       "      <td>1.0</td>\n",
       "      <td>265.0</td>\n",
       "      <td>1200.0</td>\n",
       "      <td>[[[[196.599 145.81 ]], [[196.73 145.81]]], [[[...</td>\n",
       "    </tr>\n",
       "    <tr>\n",
       "      <th>27</th>\n",
       "      <td>0.0</td>\n",
       "      <td>5.0</td>\n",
       "      <td>1.0</td>\n",
       "      <td>275.0</td>\n",
       "      <td>1200.0</td>\n",
       "      <td>[[[[ 42.0558 178.85  ]], [[ 42.1272 178.85  ]]...</td>\n",
       "    </tr>\n",
       "    <tr>\n",
       "      <th>29</th>\n",
       "      <td>0.0</td>\n",
       "      <td>5.0</td>\n",
       "      <td>1.0</td>\n",
       "      <td>285.0</td>\n",
       "      <td>1200.0</td>\n",
       "      <td>[[[[ 93.5658 178.85  ]], [[ 93.6377 178.85  ]]...</td>\n",
       "    </tr>\n",
       "    <tr>\n",
       "      <th>31</th>\n",
       "      <td>0.0</td>\n",
       "      <td>5.0</td>\n",
       "      <td>1.0</td>\n",
       "      <td>295.0</td>\n",
       "      <td>1200.0</td>\n",
       "      <td>[[[[145.086 178.85 ]], [[145.157 178.85 ]]], [...</td>\n",
       "    </tr>\n",
       "  </tbody>\n",
       "</table>\n",
       "</div>"
      ],
      "text/plain": [
       "    laser_index  type  count  power   speed  \\\n",
       "1           0.0   5.0    1.0  255.0  1200.0   \n",
       "3           0.0   5.0    1.0  255.0  1200.0   \n",
       "5           0.0   5.0    1.0  255.0  1200.0   \n",
       "7           0.0   5.0    1.0  255.0  1200.0   \n",
       "9           0.0   5.0    1.0  255.0  1200.0   \n",
       "11          0.0   5.0    1.0  255.0  1200.0   \n",
       "13          0.0   5.0    1.0  255.0  1200.0   \n",
       "15          0.0   5.0    1.0  215.0  1200.0   \n",
       "17          0.0   5.0    1.0  225.0  1200.0   \n",
       "19          0.0   5.0    1.0  235.0  1200.0   \n",
       "21          0.0   5.0    1.0  245.0  1200.0   \n",
       "23          0.0   5.0    1.0  255.0  1200.0   \n",
       "25          0.0   5.0    1.0  265.0  1200.0   \n",
       "27          0.0   5.0    1.0  275.0  1200.0   \n",
       "29          0.0   5.0    1.0  285.0  1200.0   \n",
       "31          0.0   5.0    1.0  295.0  1200.0   \n",
       "\n",
       "                                             polyline  \n",
       "1   [[[[117.891  39.27 ]], [[118.084  39.27 ]]], [...  \n",
       "3   [[[[42.0485 79.7   ]], [[42.1828 79.7   ]]], [...  \n",
       "5   [[[[93.5658 79.68  ]], [[93.6376 79.68  ]]], [...  \n",
       "7   [[[[145.093  79.66 ]], [[145.101  79.66 ]]], [...  \n",
       "9   [[[[196.606  79.68 ]], [[196.677  79.68 ]]], [...  \n",
       "11  [[[[ 42.0413 112.77  ]], [[ 42.2341 112.77  ]]...  \n",
       "13  [[[[ 93.5404 112.8   ]], [[ 93.8278 112.8   ]]...  \n",
       "15  [[[[145.071 112.77 ]], [[145.264 112.77 ]]], [...  \n",
       "17  [[[[196.591 112.77 ]], [[196.784 112.77 ]]], [...  \n",
       "19  [[[[ 42.0485 145.81  ]], [[ 42.1799 145.81  ]]...  \n",
       "21  [[[[ 93.5585 145.81  ]], [[ 93.6909 145.81  ]]...  \n",
       "23  [[[[145.079 145.81 ]], [[145.21 145.81]]], [[[...  \n",
       "25  [[[[196.599 145.81 ]], [[196.73 145.81]]], [[[...  \n",
       "27  [[[[ 42.0558 178.85  ]], [[ 42.1272 178.85  ]]...  \n",
       "29  [[[[ 93.5658 178.85  ]], [[ 93.6377 178.85  ]]...  \n",
       "31  [[[[145.086 178.85 ]], [[145.157 178.85 ]]], [...  "
      ]
     },
     "execution_count": 38,
     "metadata": {},
     "output_type": "execute_result"
    }
   ],
   "source": [
    "data_feature_sinter_1"
   ]
  },
  {
   "cell_type": "code",
   "execution_count": 15,
   "id": "54a8dc58",
   "metadata": {
    "ExecuteTime": {
     "end_time": "2022-08-01T09:16:50.175910Z",
     "start_time": "2022-08-01T09:16:50.139780Z"
    }
   },
   "outputs": [],
   "source": [
    "data_feature_sinter_1.reset_index(drop=True, inplace=True)"
   ]
  },
  {
   "cell_type": "code",
   "execution_count": 16,
   "id": "ada42843",
   "metadata": {
    "ExecuteTime": {
     "end_time": "2022-08-01T05:29:14.126351Z",
     "start_time": "2022-08-01T05:29:13.075549Z"
    }
   },
   "outputs": [
    {
     "data": {
      "text/html": [
       "<div>\n",
       "<style scoped>\n",
       "    .dataframe tbody tr th:only-of-type {\n",
       "        vertical-align: middle;\n",
       "    }\n",
       "\n",
       "    .dataframe tbody tr th {\n",
       "        vertical-align: top;\n",
       "    }\n",
       "\n",
       "    .dataframe thead th {\n",
       "        text-align: right;\n",
       "    }\n",
       "</style>\n",
       "<table border=\"1\" class=\"dataframe\">\n",
       "  <thead>\n",
       "    <tr style=\"text-align: right;\">\n",
       "      <th></th>\n",
       "      <th>laser_index</th>\n",
       "      <th>type</th>\n",
       "      <th>count</th>\n",
       "      <th>power</th>\n",
       "      <th>speed</th>\n",
       "      <th>polyline</th>\n",
       "    </tr>\n",
       "  </thead>\n",
       "  <tbody>\n",
       "    <tr>\n",
       "      <th>0</th>\n",
       "      <td>0.0</td>\n",
       "      <td>5.0</td>\n",
       "      <td>1.0</td>\n",
       "      <td>255.0</td>\n",
       "      <td>1200.0</td>\n",
       "      <td>[[117.891, 39.27, 118.084, 39.27], [118.274, 3...</td>\n",
       "    </tr>\n",
       "    <tr>\n",
       "      <th>1</th>\n",
       "      <td>0.0</td>\n",
       "      <td>5.0</td>\n",
       "      <td>1.0</td>\n",
       "      <td>255.0</td>\n",
       "      <td>1200.0</td>\n",
       "      <td>[[42.0485, 79.7, 42.1828, 79.7], [42.322, 79.7...</td>\n",
       "    </tr>\n",
       "    <tr>\n",
       "      <th>2</th>\n",
       "      <td>0.0</td>\n",
       "      <td>5.0</td>\n",
       "      <td>1.0</td>\n",
       "      <td>255.0</td>\n",
       "      <td>1200.0</td>\n",
       "      <td>[[93.5658, 79.68, 93.6376, 79.68], [93.8063, 7...</td>\n",
       "    </tr>\n",
       "    <tr>\n",
       "      <th>3</th>\n",
       "      <td>0.0</td>\n",
       "      <td>5.0</td>\n",
       "      <td>1.0</td>\n",
       "      <td>255.0</td>\n",
       "      <td>1200.0</td>\n",
       "      <td>[[145.093, 79.66, 145.101, 79.66], [145.296, 7...</td>\n",
       "    </tr>\n",
       "    <tr>\n",
       "      <th>4</th>\n",
       "      <td>0.0</td>\n",
       "      <td>5.0</td>\n",
       "      <td>1.0</td>\n",
       "      <td>255.0</td>\n",
       "      <td>1200.0</td>\n",
       "      <td>[[196.606, 79.68, 196.677, 79.68], [196.9, 79....</td>\n",
       "    </tr>\n",
       "    <tr>\n",
       "      <th>5</th>\n",
       "      <td>0.0</td>\n",
       "      <td>5.0</td>\n",
       "      <td>1.0</td>\n",
       "      <td>255.0</td>\n",
       "      <td>1200.0</td>\n",
       "      <td>[[42.0413, 112.77, 42.2341, 112.77], [42.4781,...</td>\n",
       "    </tr>\n",
       "    <tr>\n",
       "      <th>6</th>\n",
       "      <td>0.0</td>\n",
       "      <td>5.0</td>\n",
       "      <td>1.0</td>\n",
       "      <td>255.0</td>\n",
       "      <td>1200.0</td>\n",
       "      <td>[[93.5404, 112.8, 93.8278, 112.8], [94.1015, 1...</td>\n",
       "    </tr>\n",
       "    <tr>\n",
       "      <th>7</th>\n",
       "      <td>0.0</td>\n",
       "      <td>5.0</td>\n",
       "      <td>1.0</td>\n",
       "      <td>215.0</td>\n",
       "      <td>1200.0</td>\n",
       "      <td>[[145.071, 112.77, 145.264, 112.77], [145.454,...</td>\n",
       "    </tr>\n",
       "    <tr>\n",
       "      <th>8</th>\n",
       "      <td>0.0</td>\n",
       "      <td>5.0</td>\n",
       "      <td>1.0</td>\n",
       "      <td>225.0</td>\n",
       "      <td>1200.0</td>\n",
       "      <td>[[196.591, 112.77, 196.784, 112.77], [196.974,...</td>\n",
       "    </tr>\n",
       "    <tr>\n",
       "      <th>9</th>\n",
       "      <td>0.0</td>\n",
       "      <td>5.0</td>\n",
       "      <td>1.0</td>\n",
       "      <td>235.0</td>\n",
       "      <td>1200.0</td>\n",
       "      <td>[[42.0485, 145.81, 42.1799, 145.81], [42.3697,...</td>\n",
       "    </tr>\n",
       "    <tr>\n",
       "      <th>10</th>\n",
       "      <td>0.0</td>\n",
       "      <td>5.0</td>\n",
       "      <td>1.0</td>\n",
       "      <td>245.0</td>\n",
       "      <td>1200.0</td>\n",
       "      <td>[[93.5585, 145.81, 93.6909, 145.81], [93.8825,...</td>\n",
       "    </tr>\n",
       "    <tr>\n",
       "      <th>11</th>\n",
       "      <td>0.0</td>\n",
       "      <td>5.0</td>\n",
       "      <td>1.0</td>\n",
       "      <td>255.0</td>\n",
       "      <td>1200.0</td>\n",
       "      <td>[[145.079, 145.81, 145.21, 145.81], [145.4, 14...</td>\n",
       "    </tr>\n",
       "    <tr>\n",
       "      <th>12</th>\n",
       "      <td>0.0</td>\n",
       "      <td>5.0</td>\n",
       "      <td>1.0</td>\n",
       "      <td>265.0</td>\n",
       "      <td>1200.0</td>\n",
       "      <td>[[196.599, 145.81, 196.73, 145.81], [196.92, 1...</td>\n",
       "    </tr>\n",
       "    <tr>\n",
       "      <th>13</th>\n",
       "      <td>0.0</td>\n",
       "      <td>5.0</td>\n",
       "      <td>1.0</td>\n",
       "      <td>275.0</td>\n",
       "      <td>1200.0</td>\n",
       "      <td>[[42.0558, 178.85, 42.1272, 178.85], [42.322, ...</td>\n",
       "    </tr>\n",
       "    <tr>\n",
       "      <th>14</th>\n",
       "      <td>0.0</td>\n",
       "      <td>5.0</td>\n",
       "      <td>1.0</td>\n",
       "      <td>285.0</td>\n",
       "      <td>1200.0</td>\n",
       "      <td>[[93.5658, 178.85, 93.6377, 178.85], [93.8344,...</td>\n",
       "    </tr>\n",
       "    <tr>\n",
       "      <th>15</th>\n",
       "      <td>0.0</td>\n",
       "      <td>5.0</td>\n",
       "      <td>1.0</td>\n",
       "      <td>295.0</td>\n",
       "      <td>1200.0</td>\n",
       "      <td>[[145.086, 178.85, 145.157, 178.85], [145.352,...</td>\n",
       "    </tr>\n",
       "  </tbody>\n",
       "</table>\n",
       "</div>"
      ],
      "text/plain": [
       "    laser_index  type  count  power   speed  \\\n",
       "0           0.0   5.0    1.0  255.0  1200.0   \n",
       "1           0.0   5.0    1.0  255.0  1200.0   \n",
       "2           0.0   5.0    1.0  255.0  1200.0   \n",
       "3           0.0   5.0    1.0  255.0  1200.0   \n",
       "4           0.0   5.0    1.0  255.0  1200.0   \n",
       "5           0.0   5.0    1.0  255.0  1200.0   \n",
       "6           0.0   5.0    1.0  255.0  1200.0   \n",
       "7           0.0   5.0    1.0  215.0  1200.0   \n",
       "8           0.0   5.0    1.0  225.0  1200.0   \n",
       "9           0.0   5.0    1.0  235.0  1200.0   \n",
       "10          0.0   5.0    1.0  245.0  1200.0   \n",
       "11          0.0   5.0    1.0  255.0  1200.0   \n",
       "12          0.0   5.0    1.0  265.0  1200.0   \n",
       "13          0.0   5.0    1.0  275.0  1200.0   \n",
       "14          0.0   5.0    1.0  285.0  1200.0   \n",
       "15          0.0   5.0    1.0  295.0  1200.0   \n",
       "\n",
       "                                             polyline  \n",
       "0   [[117.891, 39.27, 118.084, 39.27], [118.274, 3...  \n",
       "1   [[42.0485, 79.7, 42.1828, 79.7], [42.322, 79.7...  \n",
       "2   [[93.5658, 79.68, 93.6376, 79.68], [93.8063, 7...  \n",
       "3   [[145.093, 79.66, 145.101, 79.66], [145.296, 7...  \n",
       "4   [[196.606, 79.68, 196.677, 79.68], [196.9, 79....  \n",
       "5   [[42.0413, 112.77, 42.2341, 112.77], [42.4781,...  \n",
       "6   [[93.5404, 112.8, 93.8278, 112.8], [94.1015, 1...  \n",
       "7   [[145.071, 112.77, 145.264, 112.77], [145.454,...  \n",
       "8   [[196.591, 112.77, 196.784, 112.77], [196.974,...  \n",
       "9   [[42.0485, 145.81, 42.1799, 145.81], [42.3697,...  \n",
       "10  [[93.5585, 145.81, 93.6909, 145.81], [93.8825,...  \n",
       "11  [[145.079, 145.81, 145.21, 145.81], [145.4, 14...  \n",
       "12  [[196.599, 145.81, 196.73, 145.81], [196.92, 1...  \n",
       "13  [[42.0558, 178.85, 42.1272, 178.85], [42.322, ...  \n",
       "14  [[93.5658, 178.85, 93.6377, 178.85], [93.8344,...  \n",
       "15  [[145.086, 178.85, 145.157, 178.85], [145.352,...  "
      ]
     },
     "execution_count": 16,
     "metadata": {},
     "output_type": "execute_result"
    }
   ],
   "source": [
    "data_feature_sinter_1"
   ]
  },
  {
   "cell_type": "code",
   "execution_count": 16,
   "id": "8accbafd",
   "metadata": {
    "ExecuteTime": {
     "end_time": "2022-08-01T09:16:52.346591Z",
     "start_time": "2022-08-01T09:16:52.330640Z"
    }
   },
   "outputs": [],
   "source": [
    "data_feature_sinter_2 = data_feature_sinter_1.iloc[7:]"
   ]
  },
  {
   "cell_type": "code",
   "execution_count": 17,
   "id": "bc6b5ea9",
   "metadata": {
    "ExecuteTime": {
     "end_time": "2022-08-01T09:16:55.791284Z",
     "start_time": "2022-08-01T09:16:55.193522Z"
    }
   },
   "outputs": [
    {
     "data": {
      "text/html": [
       "<div>\n",
       "<style scoped>\n",
       "    .dataframe tbody tr th:only-of-type {\n",
       "        vertical-align: middle;\n",
       "    }\n",
       "\n",
       "    .dataframe tbody tr th {\n",
       "        vertical-align: top;\n",
       "    }\n",
       "\n",
       "    .dataframe thead th {\n",
       "        text-align: right;\n",
       "    }\n",
       "</style>\n",
       "<table border=\"1\" class=\"dataframe\">\n",
       "  <thead>\n",
       "    <tr style=\"text-align: right;\">\n",
       "      <th></th>\n",
       "      <th>laser_index</th>\n",
       "      <th>type</th>\n",
       "      <th>count</th>\n",
       "      <th>power</th>\n",
       "      <th>speed</th>\n",
       "      <th>polyline</th>\n",
       "    </tr>\n",
       "  </thead>\n",
       "  <tbody>\n",
       "    <tr>\n",
       "      <th>0</th>\n",
       "      <td>0.0</td>\n",
       "      <td>5.0</td>\n",
       "      <td>1.0</td>\n",
       "      <td>215.0</td>\n",
       "      <td>1200.0</td>\n",
       "      <td>[[145.071, 112.77, 145.264, 112.77], [145.454,...</td>\n",
       "    </tr>\n",
       "    <tr>\n",
       "      <th>1</th>\n",
       "      <td>0.0</td>\n",
       "      <td>5.0</td>\n",
       "      <td>1.0</td>\n",
       "      <td>225.0</td>\n",
       "      <td>1200.0</td>\n",
       "      <td>[[196.591, 112.77, 196.784, 112.77], [196.974,...</td>\n",
       "    </tr>\n",
       "    <tr>\n",
       "      <th>2</th>\n",
       "      <td>0.0</td>\n",
       "      <td>5.0</td>\n",
       "      <td>1.0</td>\n",
       "      <td>235.0</td>\n",
       "      <td>1200.0</td>\n",
       "      <td>[[42.0485, 145.81, 42.1799, 145.81], [42.3697,...</td>\n",
       "    </tr>\n",
       "    <tr>\n",
       "      <th>3</th>\n",
       "      <td>0.0</td>\n",
       "      <td>5.0</td>\n",
       "      <td>1.0</td>\n",
       "      <td>245.0</td>\n",
       "      <td>1200.0</td>\n",
       "      <td>[[93.5585, 145.81, 93.6909, 145.81], [93.8825,...</td>\n",
       "    </tr>\n",
       "    <tr>\n",
       "      <th>4</th>\n",
       "      <td>0.0</td>\n",
       "      <td>5.0</td>\n",
       "      <td>1.0</td>\n",
       "      <td>255.0</td>\n",
       "      <td>1200.0</td>\n",
       "      <td>[[145.079, 145.81, 145.21, 145.81], [145.4, 14...</td>\n",
       "    </tr>\n",
       "    <tr>\n",
       "      <th>5</th>\n",
       "      <td>0.0</td>\n",
       "      <td>5.0</td>\n",
       "      <td>1.0</td>\n",
       "      <td>265.0</td>\n",
       "      <td>1200.0</td>\n",
       "      <td>[[196.599, 145.81, 196.73, 145.81], [196.92, 1...</td>\n",
       "    </tr>\n",
       "    <tr>\n",
       "      <th>6</th>\n",
       "      <td>0.0</td>\n",
       "      <td>5.0</td>\n",
       "      <td>1.0</td>\n",
       "      <td>275.0</td>\n",
       "      <td>1200.0</td>\n",
       "      <td>[[42.0558, 178.85, 42.1272, 178.85], [42.322, ...</td>\n",
       "    </tr>\n",
       "    <tr>\n",
       "      <th>7</th>\n",
       "      <td>0.0</td>\n",
       "      <td>5.0</td>\n",
       "      <td>1.0</td>\n",
       "      <td>285.0</td>\n",
       "      <td>1200.0</td>\n",
       "      <td>[[93.5658, 178.85, 93.6377, 178.85], [93.8344,...</td>\n",
       "    </tr>\n",
       "    <tr>\n",
       "      <th>8</th>\n",
       "      <td>0.0</td>\n",
       "      <td>5.0</td>\n",
       "      <td>1.0</td>\n",
       "      <td>295.0</td>\n",
       "      <td>1200.0</td>\n",
       "      <td>[[145.086, 178.85, 145.157, 178.85], [145.352,...</td>\n",
       "    </tr>\n",
       "  </tbody>\n",
       "</table>\n",
       "</div>"
      ],
      "text/plain": [
       "   laser_index  type  count  power   speed  \\\n",
       "0          0.0   5.0    1.0  215.0  1200.0   \n",
       "1          0.0   5.0    1.0  225.0  1200.0   \n",
       "2          0.0   5.0    1.0  235.0  1200.0   \n",
       "3          0.0   5.0    1.0  245.0  1200.0   \n",
       "4          0.0   5.0    1.0  255.0  1200.0   \n",
       "5          0.0   5.0    1.0  265.0  1200.0   \n",
       "6          0.0   5.0    1.0  275.0  1200.0   \n",
       "7          0.0   5.0    1.0  285.0  1200.0   \n",
       "8          0.0   5.0    1.0  295.0  1200.0   \n",
       "\n",
       "                                            polyline  \n",
       "0  [[145.071, 112.77, 145.264, 112.77], [145.454,...  \n",
       "1  [[196.591, 112.77, 196.784, 112.77], [196.974,...  \n",
       "2  [[42.0485, 145.81, 42.1799, 145.81], [42.3697,...  \n",
       "3  [[93.5585, 145.81, 93.6909, 145.81], [93.8825,...  \n",
       "4  [[145.079, 145.81, 145.21, 145.81], [145.4, 14...  \n",
       "5  [[196.599, 145.81, 196.73, 145.81], [196.92, 1...  \n",
       "6  [[42.0558, 178.85, 42.1272, 178.85], [42.322, ...  \n",
       "7  [[93.5658, 178.85, 93.6377, 178.85], [93.8344,...  \n",
       "8  [[145.086, 178.85, 145.157, 178.85], [145.352,...  "
      ]
     },
     "execution_count": 17,
     "metadata": {},
     "output_type": "execute_result"
    }
   ],
   "source": [
    "data_feature_sinter_2.reset_index(drop=True)"
   ]
  },
  {
   "cell_type": "code",
   "execution_count": 43,
   "id": "202d7b8d",
   "metadata": {
    "ExecuteTime": {
     "end_time": "2022-07-25T09:08:09.242179Z",
     "start_time": "2022-07-25T09:08:09.214259Z"
    }
   },
   "outputs": [
    {
     "data": {
      "text/plain": [
       "[525542,\n",
       " 1212005,\n",
       " 1309079,\n",
       " 1410840,\n",
       " 1511024,\n",
       " 1605797,\n",
       " 1702896,\n",
       " 1804666,\n",
       " 1904853,\n",
       " 1999614,\n",
       " 2096712]"
      ]
     },
     "execution_count": 43,
     "metadata": {},
     "output_type": "execute_result"
    }
   ],
   "source": [
    "power_change_index_new"
   ]
  },
  {
   "cell_type": "code",
   "execution_count": 18,
   "id": "8afd6351",
   "metadata": {
    "ExecuteTime": {
     "end_time": "2022-08-01T09:16:58.818198Z",
     "start_time": "2022-08-01T09:16:58.525625Z"
    }
   },
   "outputs": [],
   "source": [
    "#熔池数据添加工艺分段编号列\n",
    "mp_df['gyfg'] = np.nan\n",
    "for i in range(len(power_change_index_new)-1):\n",
    "    mp_df.loc[power_change_index_new[i]:1+power_change_index_new[i+1],'gyfg'] = int(i)\n",
    "#     mp_df['gyfg'].iloc[power_change_index_new[i]:1+power_change_index_new[i+1]] =int(i) #会引发链式索引"
   ]
  },
  {
   "cell_type": "code",
   "execution_count": 45,
   "id": "3a4ef0a6",
   "metadata": {
    "ExecuteTime": {
     "end_time": "2022-07-25T09:08:45.045074Z",
     "start_time": "2022-07-25T09:08:41.631805Z"
    },
    "scrolled": false
   },
   "outputs": [
    {
     "data": {
      "text/plain": [
       "<AxesSubplot:>"
      ]
     },
     "execution_count": 45,
     "metadata": {},
     "output_type": "execute_result"
    },
    {
     "data": {
      "image/png": "[encoded data removed]",
      "text/plain": [
       "<Figure size 432x288 with 1 Axes>"
      ]
     },
     "metadata": {
      "needs_background": "light"
     },
     "output_type": "display_data"
    }
   ],
   "source": [
    "mp_df['gyfg'].plot()"
   ]
  },
  {
   "cell_type": "code",
   "execution_count": 19,
   "id": "faa20809",
   "metadata": {
    "ExecuteTime": {
     "end_time": "2022-08-01T09:19:24.988453Z",
     "start_time": "2022-08-01T09:17:01.567072Z"
    }
   },
   "outputs": [],
   "source": [
    "mp_df['xdfg'] = np.nan\n",
    "for i in range(num_sw):\n",
    "    mp_df.iloc[indexup[i]:indexdown[i],4] = i\n",
    "#     mp_df['xdfg'].iloc[indexup[i]:indexdown[i]] = i #会引发链式索引"
   ]
  },
  {
   "cell_type": "code",
   "execution_count": 47,
   "id": "cc51f4ca",
   "metadata": {
    "ExecuteTime": {
     "end_time": "2022-07-25T09:12:00.921812Z",
     "start_time": "2022-07-25T09:12:00.571674Z"
    }
   },
   "outputs": [
    {
     "data": {
      "text/plain": [
       "<AxesSubplot:>"
      ]
     },
     "execution_count": 47,
     "metadata": {},
     "output_type": "execute_result"
    },
    {
     "data": {
      "image/png": "[encoded data removed]",
      "text/plain": [
       "<Figure size 432x288 with 1 Axes>"
      ]
     },
     "metadata": {
      "needs_background": "light"
     },
     "output_type": "display_data"
    }
   ],
   "source": [
    "mp_df['xdfg'][1111000:1112000].plot()"
   ]
  },
  {
   "cell_type": "code",
   "execution_count": 48,
   "id": "f5e7e317",
   "metadata": {
    "ExecuteTime": {
     "end_time": "2022-07-25T09:12:16.818327Z",
     "start_time": "2022-07-25T09:12:16.780892Z"
    },
    "scrolled": true
   },
   "outputs": [
    {
     "data": {
      "text/html": [
       "<div>\n",
       "<style scoped>\n",
       "    .dataframe tbody tr th:only-of-type {\n",
       "        vertical-align: middle;\n",
       "    }\n",
       "\n",
       "    .dataframe tbody tr th {\n",
       "        vertical-align: top;\n",
       "    }\n",
       "\n",
       "    .dataframe thead th {\n",
       "        text-align: right;\n",
       "    }\n",
       "</style>\n",
       "<table border=\"1\" class=\"dataframe\">\n",
       "  <thead>\n",
       "    <tr style=\"text-align: right;\">\n",
       "      <th></th>\n",
       "      <th>data_pd_0</th>\n",
       "      <th>data_sw</th>\n",
       "      <th>data_pw</th>\n",
       "      <th>gyfg</th>\n",
       "      <th>xdfg</th>\n",
       "    </tr>\n",
       "  </thead>\n",
       "  <tbody>\n",
       "    <tr>\n",
       "      <th>0</th>\n",
       "      <td>-4.27</td>\n",
       "      <td>0</td>\n",
       "      <td>4.58</td>\n",
       "      <td>NaN</td>\n",
       "      <td>NaN</td>\n",
       "    </tr>\n",
       "    <tr>\n",
       "      <th>1</th>\n",
       "      <td>-5.19</td>\n",
       "      <td>0</td>\n",
       "      <td>4.58</td>\n",
       "      <td>NaN</td>\n",
       "      <td>NaN</td>\n",
       "    </tr>\n",
       "    <tr>\n",
       "      <th>2</th>\n",
       "      <td>-6.41</td>\n",
       "      <td>0</td>\n",
       "      <td>5.19</td>\n",
       "      <td>NaN</td>\n",
       "      <td>NaN</td>\n",
       "    </tr>\n",
       "    <tr>\n",
       "      <th>3</th>\n",
       "      <td>-6.41</td>\n",
       "      <td>0</td>\n",
       "      <td>5.80</td>\n",
       "      <td>NaN</td>\n",
       "      <td>NaN</td>\n",
       "    </tr>\n",
       "    <tr>\n",
       "      <th>4</th>\n",
       "      <td>-6.41</td>\n",
       "      <td>0</td>\n",
       "      <td>6.41</td>\n",
       "      <td>NaN</td>\n",
       "      <td>NaN</td>\n",
       "    </tr>\n",
       "    <tr>\n",
       "      <th>...</th>\n",
       "      <td>...</td>\n",
       "      <td>...</td>\n",
       "      <td>...</td>\n",
       "      <td>...</td>\n",
       "      <td>...</td>\n",
       "    </tr>\n",
       "    <tr>\n",
       "      <th>2098021</th>\n",
       "      <td>-5.80</td>\n",
       "      <td>0</td>\n",
       "      <td>7.63</td>\n",
       "      <td>NaN</td>\n",
       "      <td>NaN</td>\n",
       "    </tr>\n",
       "    <tr>\n",
       "      <th>2098022</th>\n",
       "      <td>-5.80</td>\n",
       "      <td>0</td>\n",
       "      <td>7.63</td>\n",
       "      <td>NaN</td>\n",
       "      <td>NaN</td>\n",
       "    </tr>\n",
       "    <tr>\n",
       "      <th>2098023</th>\n",
       "      <td>-5.80</td>\n",
       "      <td>0</td>\n",
       "      <td>7.32</td>\n",
       "      <td>NaN</td>\n",
       "      <td>NaN</td>\n",
       "    </tr>\n",
       "    <tr>\n",
       "      <th>2098024</th>\n",
       "      <td>-4.58</td>\n",
       "      <td>0</td>\n",
       "      <td>6.71</td>\n",
       "      <td>NaN</td>\n",
       "      <td>NaN</td>\n",
       "    </tr>\n",
       "    <tr>\n",
       "      <th>2098025</th>\n",
       "      <td>-4.58</td>\n",
       "      <td>0</td>\n",
       "      <td>0.00</td>\n",
       "      <td>NaN</td>\n",
       "      <td>NaN</td>\n",
       "    </tr>\n",
       "  </tbody>\n",
       "</table>\n",
       "<p>2098026 rows × 5 columns</p>\n",
       "</div>"
      ],
      "text/plain": [
       "         data_pd_0  data_sw  data_pw  gyfg  xdfg\n",
       "0            -4.27        0     4.58   NaN   NaN\n",
       "1            -5.19        0     4.58   NaN   NaN\n",
       "2            -6.41        0     5.19   NaN   NaN\n",
       "3            -6.41        0     5.80   NaN   NaN\n",
       "4            -6.41        0     6.41   NaN   NaN\n",
       "...            ...      ...      ...   ...   ...\n",
       "2098021      -5.80        0     7.63   NaN   NaN\n",
       "2098022      -5.80        0     7.63   NaN   NaN\n",
       "2098023      -5.80        0     7.32   NaN   NaN\n",
       "2098024      -4.58        0     6.71   NaN   NaN\n",
       "2098025      -4.58        0     0.00   NaN   NaN\n",
       "\n",
       "[2098026 rows x 5 columns]"
      ]
     },
     "execution_count": 48,
     "metadata": {},
     "output_type": "execute_result"
    }
   ],
   "source": [
    "mp_df"
   ]
  },
  {
   "cell_type": "markdown",
   "id": "ec7b8ed5",
   "metadata": {},
   "source": [
    "## 按熔道统计分析计算"
   ]
  },
  {
   "cell_type": "markdown",
   "id": "8bf8104c",
   "metadata": {},
   "source": [
    "- 计算每条熔道的最大值、最小值、极差、均值、方差、标准差、均方根、偏度、峰度、波形因子、峰值因子、脉冲因子、裕度因子"
   ]
  },
  {
   "cell_type": "code",
   "execution_count": 20,
   "id": "e3ed5d27",
   "metadata": {
    "ExecuteTime": {
     "end_time": "2022-08-01T09:19:27.745059Z",
     "start_time": "2022-08-01T09:19:27.721985Z"
    }
   },
   "outputs": [],
   "source": [
    "#计算熔道特征（RD_group)\n",
    "RD_grouped =mp_df.groupby(['gyfg','xdfg'])"
   ]
  },
  {
   "cell_type": "code",
   "execution_count": 21,
   "id": "ab26d1e5",
   "metadata": {
    "ExecuteTime": {
     "end_time": "2022-08-01T09:29:58.315598Z",
     "start_time": "2022-08-01T09:29:57.825501Z"
    }
   },
   "outputs": [
    {
     "data": {
      "text/html": [
       "<div>\n",
       "<style scoped>\n",
       "    .dataframe tbody tr th:only-of-type {\n",
       "        vertical-align: middle;\n",
       "    }\n",
       "\n",
       "    .dataframe tbody tr th {\n",
       "        vertical-align: top;\n",
       "    }\n",
       "\n",
       "    .dataframe thead th {\n",
       "        text-align: right;\n",
       "    }\n",
       "</style>\n",
       "<table border=\"1\" class=\"dataframe\">\n",
       "  <thead>\n",
       "    <tr style=\"text-align: right;\">\n",
       "      <th></th>\n",
       "      <th></th>\n",
       "      <th>data_pd_0</th>\n",
       "      <th>data_sw</th>\n",
       "      <th>data_pw</th>\n",
       "    </tr>\n",
       "    <tr>\n",
       "      <th>gyfg</th>\n",
       "      <th>xdfg</th>\n",
       "      <th></th>\n",
       "      <th></th>\n",
       "      <th></th>\n",
       "    </tr>\n",
       "  </thead>\n",
       "  <tbody>\n",
       "    <tr>\n",
       "      <th rowspan=\"5\" valign=\"top\">0.0</th>\n",
       "      <th>0.0</th>\n",
       "      <td>167.212857</td>\n",
       "      <td>1.0</td>\n",
       "      <td>5687.260000</td>\n",
       "    </tr>\n",
       "    <tr>\n",
       "      <th>1.0</th>\n",
       "      <td>195.564348</td>\n",
       "      <td>1.0</td>\n",
       "      <td>5684.936522</td>\n",
       "    </tr>\n",
       "    <tr>\n",
       "      <th>2.0</th>\n",
       "      <td>231.045000</td>\n",
       "      <td>1.0</td>\n",
       "      <td>5689.031875</td>\n",
       "    </tr>\n",
       "    <tr>\n",
       "      <th>3.0</th>\n",
       "      <td>215.923415</td>\n",
       "      <td>1.0</td>\n",
       "      <td>5687.271220</td>\n",
       "    </tr>\n",
       "    <tr>\n",
       "      <th>4.0</th>\n",
       "      <td>262.096600</td>\n",
       "      <td>1.0</td>\n",
       "      <td>5686.920400</td>\n",
       "    </tr>\n",
       "    <tr>\n",
       "      <th>...</th>\n",
       "      <th>...</th>\n",
       "      <td>...</td>\n",
       "      <td>...</td>\n",
       "      <td>...</td>\n",
       "    </tr>\n",
       "    <tr>\n",
       "      <th rowspan=\"5\" valign=\"top\">9.0</th>\n",
       "      <th>5499.0</th>\n",
       "      <td>289.368800</td>\n",
       "      <td>1.0</td>\n",
       "      <td>6418.061800</td>\n",
       "    </tr>\n",
       "    <tr>\n",
       "      <th>5500.0</th>\n",
       "      <td>260.941250</td>\n",
       "      <td>1.0</td>\n",
       "      <td>6419.024750</td>\n",
       "    </tr>\n",
       "    <tr>\n",
       "      <th>5501.0</th>\n",
       "      <td>224.647419</td>\n",
       "      <td>1.0</td>\n",
       "      <td>6418.113871</td>\n",
       "    </tr>\n",
       "    <tr>\n",
       "      <th>5502.0</th>\n",
       "      <td>204.509545</td>\n",
       "      <td>1.0</td>\n",
       "      <td>6421.591818</td>\n",
       "    </tr>\n",
       "    <tr>\n",
       "      <th>5503.0</th>\n",
       "      <td>190.642308</td>\n",
       "      <td>1.0</td>\n",
       "      <td>6415.454615</td>\n",
       "    </tr>\n",
       "  </tbody>\n",
       "</table>\n",
       "<p>5504 rows × 3 columns</p>\n",
       "</div>"
      ],
      "text/plain": [
       "              data_pd_0  data_sw      data_pw\n",
       "gyfg xdfg                                    \n",
       "0.0  0.0     167.212857      1.0  5687.260000\n",
       "     1.0     195.564348      1.0  5684.936522\n",
       "     2.0     231.045000      1.0  5689.031875\n",
       "     3.0     215.923415      1.0  5687.271220\n",
       "     4.0     262.096600      1.0  5686.920400\n",
       "...                 ...      ...          ...\n",
       "9.0  5499.0  289.368800      1.0  6418.061800\n",
       "     5500.0  260.941250      1.0  6419.024750\n",
       "     5501.0  224.647419      1.0  6418.113871\n",
       "     5502.0  204.509545      1.0  6421.591818\n",
       "     5503.0  190.642308      1.0  6415.454615\n",
       "\n",
       "[5504 rows x 3 columns]"
      ]
     },
     "execution_count": 21,
     "metadata": {},
     "output_type": "execute_result"
    }
   ],
   "source": [
    "RD_grouped.mean()"
   ]
  },
  {
   "cell_type": "code",
   "execution_count": 32,
   "id": "17d8bb04",
   "metadata": {
    "ExecuteTime": {
     "end_time": "2022-08-01T14:14:34.659553Z",
     "start_time": "2022-08-01T14:14:32.108087Z"
    }
   },
   "outputs": [],
   "source": [
    "RD_mean = RD_grouped['data_pd_0'].mean()  # 均值\n",
    "RD_max = RD_grouped['data_pd_0'].max()  # 最大值\n",
    "RD_min = RD_grouped['data_pd_0'].min()  # 最小值\n",
    "RD_median = RD_grouped['data_pd_0'].median()  # 中位数\n",
    "RD_std = RD_grouped['data_pd_0'].std()  # 标准差\n",
    "RD_mad = RD_grouped['data_pd_0'].mad()  # 平均绝对偏差\n",
    "RD_skew = RD_grouped['data_pd_0'].skew()  # 偏度\n",
    "RD_kurt = RD_grouped['data_pd_0'].apply(pd.DataFrame.kurt)  # 峰度"
   ]
  },
  {
   "cell_type": "code",
   "execution_count": 33,
   "id": "9685a498",
   "metadata": {
    "ExecuteTime": {
     "end_time": "2022-08-01T14:14:35.557650Z",
     "start_time": "2022-08-01T14:14:35.544551Z"
    }
   },
   "outputs": [
    {
     "data": {
      "text/plain": [
       "gyfg  xdfg  \n",
       "0.0   0.0       167.212857\n",
       "      1.0       195.564348\n",
       "      2.0       231.045000\n",
       "      3.0       215.923415\n",
       "      4.0       262.096600\n",
       "                   ...    \n",
       "9.0   5499.0    289.368800\n",
       "      5500.0    260.941250\n",
       "      5501.0    224.647419\n",
       "      5502.0    204.509545\n",
       "      5503.0    190.642308\n",
       "Name: data_pd_0, Length: 5504, dtype: float64"
      ]
     },
     "execution_count": 33,
     "metadata": {},
     "output_type": "execute_result"
    }
   ],
   "source": [
    "RD_mean"
   ]
  },
  {
   "cell_type": "markdown",
   "id": "67354cf9",
   "metadata": {},
   "source": [
    "# 读取工程文件下的部分层数据进行分析计算"
   ]
  },
  {
   "cell_type": "code",
   "execution_count": 1,
   "id": "f59f958a",
   "metadata": {
    "ExecuteTime": {
     "end_time": "2022-08-25T11:45:21.313471Z",
     "start_time": "2022-08-25T11:45:15.902612Z"
    }
   },
   "outputs": [],
   "source": [
    "from pathlib import Path\n",
    "try:\n",
    "    import xml.etree.cElementTree as ET\n",
    "except ImportError:\n",
    "    import xml.etree.ElementTree as ET\n",
    "import numpy as np\n",
    "import pandas as pd\n",
    "import matplotlib.pyplot as plt\n",
    "import scipy.signal as signal\n",
    "import os\n",
    "import math"
   ]
  },
  {
   "cell_type": "markdown",
   "id": "26c437d0",
   "metadata": {},
   "source": [
    "熔池目录子目录读取成列表并排序"
   ]
  },
  {
   "cell_type": "code",
   "execution_count": 23,
   "id": "a0153e90",
   "metadata": {
    "ExecuteTime": {
     "end_time": "2022-08-25T13:56:10.053727Z",
     "start_time": "2022-08-25T13:56:10.002066Z"
    }
   },
   "outputs": [],
   "source": [
    "input_path = Path(r'C:\\jupyter notebook\\熔池数据\\20210316_20210316094436_K438')\n",
    "\n",
    "child_dir_list = [child for child in input_path.iterdir() if child.is_dir()]\n",
    "\n",
    "child_dir_list.sort(key=lambda x : int(x.parts[-1][5:]))"
   ]
  },
  {
   "cell_type": "code",
   "execution_count": 25,
   "id": "15914e23",
   "metadata": {
    "ExecuteTime": {
     "end_time": "2022-08-25T13:56:18.953163Z",
     "start_time": "2022-08-25T13:56:18.904514Z"
    },
    "collapsed": true
   },
   "outputs": [
    {
     "data": {
      "text/plain": [
       "[WindowsPath('C:/jupyter notebook/熔池数据/20210316_20210316094436_K438/layer11'),\n",
       " WindowsPath('C:/jupyter notebook/熔池数据/20210316_20210316094436_K438/layer12'),\n",
       " WindowsPath('C:/jupyter notebook/熔池数据/20210316_20210316094436_K438/layer13'),\n",
       " WindowsPath('C:/jupyter notebook/熔池数据/20210316_20210316094436_K438/layer14'),\n",
       " WindowsPath('C:/jupyter notebook/熔池数据/20210316_20210316094436_K438/layer15'),\n",
       " WindowsPath('C:/jupyter notebook/熔池数据/20210316_20210316094436_K438/layer16'),\n",
       " WindowsPath('C:/jupyter notebook/熔池数据/20210316_20210316094436_K438/layer17'),\n",
       " WindowsPath('C:/jupyter notebook/熔池数据/20210316_20210316094436_K438/layer18'),\n",
       " WindowsPath('C:/jupyter notebook/熔池数据/20210316_20210316094436_K438/layer19'),\n",
       " WindowsPath('C:/jupyter notebook/熔池数据/20210316_20210316094436_K438/layer20'),\n",
       " WindowsPath('C:/jupyter notebook/熔池数据/20210316_20210316094436_K438/layer21'),\n",
       " WindowsPath('C:/jupyter notebook/熔池数据/20210316_20210316094436_K438/layer22'),\n",
       " WindowsPath('C:/jupyter notebook/熔池数据/20210316_20210316094436_K438/layer23'),\n",
       " WindowsPath('C:/jupyter notebook/熔池数据/20210316_20210316094436_K438/layer24'),\n",
       " WindowsPath('C:/jupyter notebook/熔池数据/20210316_20210316094436_K438/layer25'),\n",
       " WindowsPath('C:/jupyter notebook/熔池数据/20210316_20210316094436_K438/layer26'),\n",
       " WindowsPath('C:/jupyter notebook/熔池数据/20210316_20210316094436_K438/layer27'),\n",
       " WindowsPath('C:/jupyter notebook/熔池数据/20210316_20210316094436_K438/layer28'),\n",
       " WindowsPath('C:/jupyter notebook/熔池数据/20210316_20210316094436_K438/layer29'),\n",
       " WindowsPath('C:/jupyter notebook/熔池数据/20210316_20210316094436_K438/layer30'),\n",
       " WindowsPath('C:/jupyter notebook/熔池数据/20210316_20210316094436_K438/layer31'),\n",
       " WindowsPath('C:/jupyter notebook/熔池数据/20210316_20210316094436_K438/layer32'),\n",
       " WindowsPath('C:/jupyter notebook/熔池数据/20210316_20210316094436_K438/layer33'),\n",
       " WindowsPath('C:/jupyter notebook/熔池数据/20210316_20210316094436_K438/layer34'),\n",
       " WindowsPath('C:/jupyter notebook/熔池数据/20210316_20210316094436_K438/layer35'),\n",
       " WindowsPath('C:/jupyter notebook/熔池数据/20210316_20210316094436_K438/layer36'),\n",
       " WindowsPath('C:/jupyter notebook/熔池数据/20210316_20210316094436_K438/layer37'),\n",
       " WindowsPath('C:/jupyter notebook/熔池数据/20210316_20210316094436_K438/layer38'),\n",
       " WindowsPath('C:/jupyter notebook/熔池数据/20210316_20210316094436_K438/layer39'),\n",
       " WindowsPath('C:/jupyter notebook/熔池数据/20210316_20210316094436_K438/layer40'),\n",
       " WindowsPath('C:/jupyter notebook/熔池数据/20210316_20210316094436_K438/layer41'),\n",
       " WindowsPath('C:/jupyter notebook/熔池数据/20210316_20210316094436_K438/layer42'),\n",
       " WindowsPath('C:/jupyter notebook/熔池数据/20210316_20210316094436_K438/layer43'),\n",
       " WindowsPath('C:/jupyter notebook/熔池数据/20210316_20210316094436_K438/layer44'),\n",
       " WindowsPath('C:/jupyter notebook/熔池数据/20210316_20210316094436_K438/layer45'),\n",
       " WindowsPath('C:/jupyter notebook/熔池数据/20210316_20210316094436_K438/layer46'),\n",
       " WindowsPath('C:/jupyter notebook/熔池数据/20210316_20210316094436_K438/layer47'),\n",
       " WindowsPath('C:/jupyter notebook/熔池数据/20210316_20210316094436_K438/layer48'),\n",
       " WindowsPath('C:/jupyter notebook/熔池数据/20210316_20210316094436_K438/layer49'),\n",
       " WindowsPath('C:/jupyter notebook/熔池数据/20210316_20210316094436_K438/layer50'),\n",
       " WindowsPath('C:/jupyter notebook/熔池数据/20210316_20210316094436_K438/layer51'),\n",
       " WindowsPath('C:/jupyter notebook/熔池数据/20210316_20210316094436_K438/layer52'),\n",
       " WindowsPath('C:/jupyter notebook/熔池数据/20210316_20210316094436_K438/layer53'),\n",
       " WindowsPath('C:/jupyter notebook/熔池数据/20210316_20210316094436_K438/layer54'),\n",
       " WindowsPath('C:/jupyter notebook/熔池数据/20210316_20210316094436_K438/layer55'),\n",
       " WindowsPath('C:/jupyter notebook/熔池数据/20210316_20210316094436_K438/layer56'),\n",
       " WindowsPath('C:/jupyter notebook/熔池数据/20210316_20210316094436_K438/layer57'),\n",
       " WindowsPath('C:/jupyter notebook/熔池数据/20210316_20210316094436_K438/layer58'),\n",
       " WindowsPath('C:/jupyter notebook/熔池数据/20210316_20210316094436_K438/layer59'),\n",
       " WindowsPath('C:/jupyter notebook/熔池数据/20210316_20210316094436_K438/layer60'),\n",
       " WindowsPath('C:/jupyter notebook/熔池数据/20210316_20210316094436_K438/layer61'),\n",
       " WindowsPath('C:/jupyter notebook/熔池数据/20210316_20210316094436_K438/layer62'),\n",
       " WindowsPath('C:/jupyter notebook/熔池数据/20210316_20210316094436_K438/layer63'),\n",
       " WindowsPath('C:/jupyter notebook/熔池数据/20210316_20210316094436_K438/layer64'),\n",
       " WindowsPath('C:/jupyter notebook/熔池数据/20210316_20210316094436_K438/layer65'),\n",
       " WindowsPath('C:/jupyter notebook/熔池数据/20210316_20210316094436_K438/layer66'),\n",
       " WindowsPath('C:/jupyter notebook/熔池数据/20210316_20210316094436_K438/layer67'),\n",
       " WindowsPath('C:/jupyter notebook/熔池数据/20210316_20210316094436_K438/layer68'),\n",
       " WindowsPath('C:/jupyter notebook/熔池数据/20210316_20210316094436_K438/layer69'),\n",
       " WindowsPath('C:/jupyter notebook/熔池数据/20210316_20210316094436_K438/layer70'),\n",
       " WindowsPath('C:/jupyter notebook/熔池数据/20210316_20210316094436_K438/layer71'),\n",
       " WindowsPath('C:/jupyter notebook/熔池数据/20210316_20210316094436_K438/layer72'),\n",
       " WindowsPath('C:/jupyter notebook/熔池数据/20210316_20210316094436_K438/layer73'),\n",
       " WindowsPath('C:/jupyter notebook/熔池数据/20210316_20210316094436_K438/layer74'),\n",
       " WindowsPath('C:/jupyter notebook/熔池数据/20210316_20210316094436_K438/layer75'),\n",
       " WindowsPath('C:/jupyter notebook/熔池数据/20210316_20210316094436_K438/layer76'),\n",
       " WindowsPath('C:/jupyter notebook/熔池数据/20210316_20210316094436_K438/layer77'),\n",
       " WindowsPath('C:/jupyter notebook/熔池数据/20210316_20210316094436_K438/layer78'),\n",
       " WindowsPath('C:/jupyter notebook/熔池数据/20210316_20210316094436_K438/layer79'),\n",
       " WindowsPath('C:/jupyter notebook/熔池数据/20210316_20210316094436_K438/layer80'),\n",
       " WindowsPath('C:/jupyter notebook/熔池数据/20210316_20210316094436_K438/layer81'),\n",
       " WindowsPath('C:/jupyter notebook/熔池数据/20210316_20210316094436_K438/layer82'),\n",
       " WindowsPath('C:/jupyter notebook/熔池数据/20210316_20210316094436_K438/layer83'),\n",
       " WindowsPath('C:/jupyter notebook/熔池数据/20210316_20210316094436_K438/layer84'),\n",
       " WindowsPath('C:/jupyter notebook/熔池数据/20210316_20210316094436_K438/layer85'),\n",
       " WindowsPath('C:/jupyter notebook/熔池数据/20210316_20210316094436_K438/layer86'),\n",
       " WindowsPath('C:/jupyter notebook/熔池数据/20210316_20210316094436_K438/layer87'),\n",
       " WindowsPath('C:/jupyter notebook/熔池数据/20210316_20210316094436_K438/layer88'),\n",
       " WindowsPath('C:/jupyter notebook/熔池数据/20210316_20210316094436_K438/layer89'),\n",
       " WindowsPath('C:/jupyter notebook/熔池数据/20210316_20210316094436_K438/layer90'),\n",
       " WindowsPath('C:/jupyter notebook/熔池数据/20210316_20210316094436_K438/layer91'),\n",
       " WindowsPath('C:/jupyter notebook/熔池数据/20210316_20210316094436_K438/layer92'),\n",
       " WindowsPath('C:/jupyter notebook/熔池数据/20210316_20210316094436_K438/layer93'),\n",
       " WindowsPath('C:/jupyter notebook/熔池数据/20210316_20210316094436_K438/layer94'),\n",
       " WindowsPath('C:/jupyter notebook/熔池数据/20210316_20210316094436_K438/layer95'),\n",
       " WindowsPath('C:/jupyter notebook/熔池数据/20210316_20210316094436_K438/layer96'),\n",
       " WindowsPath('C:/jupyter notebook/熔池数据/20210316_20210316094436_K438/layer97'),\n",
       " WindowsPath('C:/jupyter notebook/熔池数据/20210316_20210316094436_K438/layer98'),\n",
       " WindowsPath('C:/jupyter notebook/熔池数据/20210316_20210316094436_K438/layer99'),\n",
       " WindowsPath('C:/jupyter notebook/熔池数据/20210316_20210316094436_K438/layer100'),\n",
       " WindowsPath('C:/jupyter notebook/熔池数据/20210316_20210316094436_K438/layer101'),\n",
       " WindowsPath('C:/jupyter notebook/熔池数据/20210316_20210316094436_K438/layer102'),\n",
       " WindowsPath('C:/jupyter notebook/熔池数据/20210316_20210316094436_K438/layer103'),\n",
       " WindowsPath('C:/jupyter notebook/熔池数据/20210316_20210316094436_K438/layer104'),\n",
       " WindowsPath('C:/jupyter notebook/熔池数据/20210316_20210316094436_K438/layer105'),\n",
       " WindowsPath('C:/jupyter notebook/熔池数据/20210316_20210316094436_K438/layer106'),\n",
       " WindowsPath('C:/jupyter notebook/熔池数据/20210316_20210316094436_K438/layer107'),\n",
       " WindowsPath('C:/jupyter notebook/熔池数据/20210316_20210316094436_K438/layer108'),\n",
       " WindowsPath('C:/jupyter notebook/熔池数据/20210316_20210316094436_K438/layer109'),\n",
       " WindowsPath('C:/jupyter notebook/熔池数据/20210316_20210316094436_K438/layer110'),\n",
       " WindowsPath('C:/jupyter notebook/熔池数据/20210316_20210316094436_K438/layer111'),\n",
       " WindowsPath('C:/jupyter notebook/熔池数据/20210316_20210316094436_K438/layer112'),\n",
       " WindowsPath('C:/jupyter notebook/熔池数据/20210316_20210316094436_K438/layer113'),\n",
       " WindowsPath('C:/jupyter notebook/熔池数据/20210316_20210316094436_K438/layer114'),\n",
       " WindowsPath('C:/jupyter notebook/熔池数据/20210316_20210316094436_K438/layer115'),\n",
       " WindowsPath('C:/jupyter notebook/熔池数据/20210316_20210316094436_K438/layer116'),\n",
       " WindowsPath('C:/jupyter notebook/熔池数据/20210316_20210316094436_K438/layer117'),\n",
       " WindowsPath('C:/jupyter notebook/熔池数据/20210316_20210316094436_K438/layer118'),\n",
       " WindowsPath('C:/jupyter notebook/熔池数据/20210316_20210316094436_K438/layer119'),\n",
       " WindowsPath('C:/jupyter notebook/熔池数据/20210316_20210316094436_K438/layer120'),\n",
       " WindowsPath('C:/jupyter notebook/熔池数据/20210316_20210316094436_K438/layer121'),\n",
       " WindowsPath('C:/jupyter notebook/熔池数据/20210316_20210316094436_K438/layer122'),\n",
       " WindowsPath('C:/jupyter notebook/熔池数据/20210316_20210316094436_K438/layer123'),\n",
       " WindowsPath('C:/jupyter notebook/熔池数据/20210316_20210316094436_K438/layer124'),\n",
       " WindowsPath('C:/jupyter notebook/熔池数据/20210316_20210316094436_K438/layer125'),\n",
       " WindowsPath('C:/jupyter notebook/熔池数据/20210316_20210316094436_K438/layer126'),\n",
       " WindowsPath('C:/jupyter notebook/熔池数据/20210316_20210316094436_K438/layer127'),\n",
       " WindowsPath('C:/jupyter notebook/熔池数据/20210316_20210316094436_K438/layer128'),\n",
       " WindowsPath('C:/jupyter notebook/熔池数据/20210316_20210316094436_K438/layer129'),\n",
       " WindowsPath('C:/jupyter notebook/熔池数据/20210316_20210316094436_K438/layer130'),\n",
       " WindowsPath('C:/jupyter notebook/熔池数据/20210316_20210316094436_K438/layer131'),\n",
       " WindowsPath('C:/jupyter notebook/熔池数据/20210316_20210316094436_K438/layer132'),\n",
       " WindowsPath('C:/jupyter notebook/熔池数据/20210316_20210316094436_K438/layer133'),\n",
       " WindowsPath('C:/jupyter notebook/熔池数据/20210316_20210316094436_K438/layer134'),\n",
       " WindowsPath('C:/jupyter notebook/熔池数据/20210316_20210316094436_K438/layer135'),\n",
       " WindowsPath('C:/jupyter notebook/熔池数据/20210316_20210316094436_K438/layer136'),\n",
       " WindowsPath('C:/jupyter notebook/熔池数据/20210316_20210316094436_K438/layer137'),\n",
       " WindowsPath('C:/jupyter notebook/熔池数据/20210316_20210316094436_K438/layer138'),\n",
       " WindowsPath('C:/jupyter notebook/熔池数据/20210316_20210316094436_K438/layer139'),\n",
       " WindowsPath('C:/jupyter notebook/熔池数据/20210316_20210316094436_K438/layer140'),\n",
       " WindowsPath('C:/jupyter notebook/熔池数据/20210316_20210316094436_K438/layer141'),\n",
       " WindowsPath('C:/jupyter notebook/熔池数据/20210316_20210316094436_K438/layer142'),\n",
       " WindowsPath('C:/jupyter notebook/熔池数据/20210316_20210316094436_K438/layer143'),\n",
       " WindowsPath('C:/jupyter notebook/熔池数据/20210316_20210316094436_K438/layer144'),\n",
       " WindowsPath('C:/jupyter notebook/熔池数据/20210316_20210316094436_K438/layer145'),\n",
       " WindowsPath('C:/jupyter notebook/熔池数据/20210316_20210316094436_K438/layer146'),\n",
       " WindowsPath('C:/jupyter notebook/熔池数据/20210316_20210316094436_K438/layer147'),\n",
       " WindowsPath('C:/jupyter notebook/熔池数据/20210316_20210316094436_K438/layer148'),\n",
       " WindowsPath('C:/jupyter notebook/熔池数据/20210316_20210316094436_K438/layer149'),\n",
       " WindowsPath('C:/jupyter notebook/熔池数据/20210316_20210316094436_K438/layer150'),\n",
       " WindowsPath('C:/jupyter notebook/熔池数据/20210316_20210316094436_K438/layer151'),\n",
       " WindowsPath('C:/jupyter notebook/熔池数据/20210316_20210316094436_K438/layer152'),\n",
       " WindowsPath('C:/jupyter notebook/熔池数据/20210316_20210316094436_K438/layer153'),\n",
       " WindowsPath('C:/jupyter notebook/熔池数据/20210316_20210316094436_K438/layer154'),\n",
       " WindowsPath('C:/jupyter notebook/熔池数据/20210316_20210316094436_K438/layer155'),\n",
       " WindowsPath('C:/jupyter notebook/熔池数据/20210316_20210316094436_K438/layer156'),\n",
       " WindowsPath('C:/jupyter notebook/熔池数据/20210316_20210316094436_K438/layer157'),\n",
       " WindowsPath('C:/jupyter notebook/熔池数据/20210316_20210316094436_K438/layer158'),\n",
       " WindowsPath('C:/jupyter notebook/熔池数据/20210316_20210316094436_K438/layer159'),\n",
       " WindowsPath('C:/jupyter notebook/熔池数据/20210316_20210316094436_K438/layer160'),\n",
       " WindowsPath('C:/jupyter notebook/熔池数据/20210316_20210316094436_K438/layer161'),\n",
       " WindowsPath('C:/jupyter notebook/熔池数据/20210316_20210316094436_K438/layer162'),\n",
       " WindowsPath('C:/jupyter notebook/熔池数据/20210316_20210316094436_K438/layer163'),\n",
       " WindowsPath('C:/jupyter notebook/熔池数据/20210316_20210316094436_K438/layer164'),\n",
       " WindowsPath('C:/jupyter notebook/熔池数据/20210316_20210316094436_K438/layer165'),\n",
       " WindowsPath('C:/jupyter notebook/熔池数据/20210316_20210316094436_K438/layer166'),\n",
       " WindowsPath('C:/jupyter notebook/熔池数据/20210316_20210316094436_K438/layer167'),\n",
       " WindowsPath('C:/jupyter notebook/熔池数据/20210316_20210316094436_K438/layer168'),\n",
       " WindowsPath('C:/jupyter notebook/熔池数据/20210316_20210316094436_K438/layer169'),\n",
       " WindowsPath('C:/jupyter notebook/熔池数据/20210316_20210316094436_K438/layer170'),\n",
       " WindowsPath('C:/jupyter notebook/熔池数据/20210316_20210316094436_K438/layer171'),\n",
       " WindowsPath('C:/jupyter notebook/熔池数据/20210316_20210316094436_K438/layer172'),\n",
       " WindowsPath('C:/jupyter notebook/熔池数据/20210316_20210316094436_K438/layer173'),\n",
       " WindowsPath('C:/jupyter notebook/熔池数据/20210316_20210316094436_K438/layer174'),\n",
       " WindowsPath('C:/jupyter notebook/熔池数据/20210316_20210316094436_K438/layer175'),\n",
       " WindowsPath('C:/jupyter notebook/熔池数据/20210316_20210316094436_K438/layer176'),\n",
       " WindowsPath('C:/jupyter notebook/熔池数据/20210316_20210316094436_K438/layer177'),\n",
       " WindowsPath('C:/jupyter notebook/熔池数据/20210316_20210316094436_K438/layer178'),\n",
       " WindowsPath('C:/jupyter notebook/熔池数据/20210316_20210316094436_K438/layer179'),\n",
       " WindowsPath('C:/jupyter notebook/熔池数据/20210316_20210316094436_K438/layer180'),\n",
       " WindowsPath('C:/jupyter notebook/熔池数据/20210316_20210316094436_K438/layer181'),\n",
       " WindowsPath('C:/jupyter notebook/熔池数据/20210316_20210316094436_K438/layer182'),\n",
       " WindowsPath('C:/jupyter notebook/熔池数据/20210316_20210316094436_K438/layer183'),\n",
       " WindowsPath('C:/jupyter notebook/熔池数据/20210316_20210316094436_K438/layer184'),\n",
       " WindowsPath('C:/jupyter notebook/熔池数据/20210316_20210316094436_K438/layer185'),\n",
       " WindowsPath('C:/jupyter notebook/熔池数据/20210316_20210316094436_K438/layer186'),\n",
       " WindowsPath('C:/jupyter notebook/熔池数据/20210316_20210316094436_K438/layer187'),\n",
       " WindowsPath('C:/jupyter notebook/熔池数据/20210316_20210316094436_K438/layer188'),\n",
       " WindowsPath('C:/jupyter notebook/熔池数据/20210316_20210316094436_K438/layer189'),\n",
       " WindowsPath('C:/jupyter notebook/熔池数据/20210316_20210316094436_K438/layer190'),\n",
       " WindowsPath('C:/jupyter notebook/熔池数据/20210316_20210316094436_K438/layer191'),\n",
       " WindowsPath('C:/jupyter notebook/熔池数据/20210316_20210316094436_K438/layer192'),\n",
       " WindowsPath('C:/jupyter notebook/熔池数据/20210316_20210316094436_K438/layer193'),\n",
       " WindowsPath('C:/jupyter notebook/熔池数据/20210316_20210316094436_K438/layer194'),\n",
       " WindowsPath('C:/jupyter notebook/熔池数据/20210316_20210316094436_K438/layer195'),\n",
       " WindowsPath('C:/jupyter notebook/熔池数据/20210316_20210316094436_K438/layer196'),\n",
       " WindowsPath('C:/jupyter notebook/熔池数据/20210316_20210316094436_K438/layer197'),\n",
       " WindowsPath('C:/jupyter notebook/熔池数据/20210316_20210316094436_K438/layer198'),\n",
       " WindowsPath('C:/jupyter notebook/熔池数据/20210316_20210316094436_K438/layer199'),\n",
       " WindowsPath('C:/jupyter notebook/熔池数据/20210316_20210316094436_K438/layer200'),\n",
       " WindowsPath('C:/jupyter notebook/熔池数据/20210316_20210316094436_K438/layer201'),\n",
       " WindowsPath('C:/jupyter notebook/熔池数据/20210316_20210316094436_K438/layer202'),\n",
       " WindowsPath('C:/jupyter notebook/熔池数据/20210316_20210316094436_K438/layer203'),\n",
       " WindowsPath('C:/jupyter notebook/熔池数据/20210316_20210316094436_K438/layer204'),\n",
       " WindowsPath('C:/jupyter notebook/熔池数据/20210316_20210316094436_K438/layer205'),\n",
       " WindowsPath('C:/jupyter notebook/熔池数据/20210316_20210316094436_K438/layer206'),\n",
       " WindowsPath('C:/jupyter notebook/熔池数据/20210316_20210316094436_K438/layer207'),\n",
       " WindowsPath('C:/jupyter notebook/熔池数据/20210316_20210316094436_K438/layer208'),\n",
       " WindowsPath('C:/jupyter notebook/熔池数据/20210316_20210316094436_K438/layer209'),\n",
       " WindowsPath('C:/jupyter notebook/熔池数据/20210316_20210316094436_K438/layer210'),\n",
       " WindowsPath('C:/jupyter notebook/熔池数据/20210316_20210316094436_K438/layer211'),\n",
       " WindowsPath('C:/jupyter notebook/熔池数据/20210316_20210316094436_K438/layer212'),\n",
       " WindowsPath('C:/jupyter notebook/熔池数据/20210316_20210316094436_K438/layer213'),\n",
       " WindowsPath('C:/jupyter notebook/熔池数据/20210316_20210316094436_K438/layer214'),\n",
       " WindowsPath('C:/jupyter notebook/熔池数据/20210316_20210316094436_K438/layer215'),\n",
       " WindowsPath('C:/jupyter notebook/熔池数据/20210316_20210316094436_K438/layer216'),\n",
       " WindowsPath('C:/jupyter notebook/熔池数据/20210316_20210316094436_K438/layer217'),\n",
       " WindowsPath('C:/jupyter notebook/熔池数据/20210316_20210316094436_K438/layer218'),\n",
       " WindowsPath('C:/jupyter notebook/熔池数据/20210316_20210316094436_K438/layer219'),\n",
       " WindowsPath('C:/jupyter notebook/熔池数据/20210316_20210316094436_K438/layer220'),\n",
       " WindowsPath('C:/jupyter notebook/熔池数据/20210316_20210316094436_K438/layer221'),\n",
       " WindowsPath('C:/jupyter notebook/熔池数据/20210316_20210316094436_K438/layer222'),\n",
       " WindowsPath('C:/jupyter notebook/熔池数据/20210316_20210316094436_K438/layer223'),\n",
       " WindowsPath('C:/jupyter notebook/熔池数据/20210316_20210316094436_K438/layer224'),\n",
       " WindowsPath('C:/jupyter notebook/熔池数据/20210316_20210316094436_K438/layer225'),\n",
       " WindowsPath('C:/jupyter notebook/熔池数据/20210316_20210316094436_K438/layer226'),\n",
       " WindowsPath('C:/jupyter notebook/熔池数据/20210316_20210316094436_K438/layer227'),\n",
       " WindowsPath('C:/jupyter notebook/熔池数据/20210316_20210316094436_K438/layer228'),\n",
       " WindowsPath('C:/jupyter notebook/熔池数据/20210316_20210316094436_K438/layer229'),\n",
       " WindowsPath('C:/jupyter notebook/熔池数据/20210316_20210316094436_K438/layer230'),\n",
       " WindowsPath('C:/jupyter notebook/熔池数据/20210316_20210316094436_K438/layer231'),\n",
       " WindowsPath('C:/jupyter notebook/熔池数据/20210316_20210316094436_K438/layer232'),\n",
       " WindowsPath('C:/jupyter notebook/熔池数据/20210316_20210316094436_K438/layer233'),\n",
       " WindowsPath('C:/jupyter notebook/熔池数据/20210316_20210316094436_K438/layer234'),\n",
       " WindowsPath('C:/jupyter notebook/熔池数据/20210316_20210316094436_K438/layer235'),\n",
       " WindowsPath('C:/jupyter notebook/熔池数据/20210316_20210316094436_K438/layer236'),\n",
       " WindowsPath('C:/jupyter notebook/熔池数据/20210316_20210316094436_K438/layer237'),\n",
       " WindowsPath('C:/jupyter notebook/熔池数据/20210316_20210316094436_K438/layer238'),\n",
       " WindowsPath('C:/jupyter notebook/熔池数据/20210316_20210316094436_K438/layer239'),\n",
       " WindowsPath('C:/jupyter notebook/熔池数据/20210316_20210316094436_K438/layer240'),\n",
       " WindowsPath('C:/jupyter notebook/熔池数据/20210316_20210316094436_K438/layer241'),\n",
       " WindowsPath('C:/jupyter notebook/熔池数据/20210316_20210316094436_K438/layer242'),\n",
       " WindowsPath('C:/jupyter notebook/熔池数据/20210316_20210316094436_K438/layer243'),\n",
       " WindowsPath('C:/jupyter notebook/熔池数据/20210316_20210316094436_K438/layer244'),\n",
       " WindowsPath('C:/jupyter notebook/熔池数据/20210316_20210316094436_K438/layer245'),\n",
       " WindowsPath('C:/jupyter notebook/熔池数据/20210316_20210316094436_K438/layer246'),\n",
       " WindowsPath('C:/jupyter notebook/熔池数据/20210316_20210316094436_K438/layer247'),\n",
       " WindowsPath('C:/jupyter notebook/熔池数据/20210316_20210316094436_K438/layer248'),\n",
       " WindowsPath('C:/jupyter notebook/熔池数据/20210316_20210316094436_K438/layer249'),\n",
       " WindowsPath('C:/jupyter notebook/熔池数据/20210316_20210316094436_K438/layer250'),\n",
       " WindowsPath('C:/jupyter notebook/熔池数据/20210316_20210316094436_K438/layer251'),\n",
       " WindowsPath('C:/jupyter notebook/熔池数据/20210316_20210316094436_K438/layer252'),\n",
       " WindowsPath('C:/jupyter notebook/熔池数据/20210316_20210316094436_K438/layer253'),\n",
       " WindowsPath('C:/jupyter notebook/熔池数据/20210316_20210316094436_K438/layer254'),\n",
       " WindowsPath('C:/jupyter notebook/熔池数据/20210316_20210316094436_K438/layer255'),\n",
       " WindowsPath('C:/jupyter notebook/熔池数据/20210316_20210316094436_K438/layer256'),\n",
       " WindowsPath('C:/jupyter notebook/熔池数据/20210316_20210316094436_K438/layer257'),\n",
       " WindowsPath('C:/jupyter notebook/熔池数据/20210316_20210316094436_K438/layer258'),\n",
       " WindowsPath('C:/jupyter notebook/熔池数据/20210316_20210316094436_K438/layer259'),\n",
       " WindowsPath('C:/jupyter notebook/熔池数据/20210316_20210316094436_K438/layer260'),\n",
       " WindowsPath('C:/jupyter notebook/熔池数据/20210316_20210316094436_K438/layer261'),\n",
       " WindowsPath('C:/jupyter notebook/熔池数据/20210316_20210316094436_K438/layer262'),\n",
       " WindowsPath('C:/jupyter notebook/熔池数据/20210316_20210316094436_K438/layer263'),\n",
       " WindowsPath('C:/jupyter notebook/熔池数据/20210316_20210316094436_K438/layer264'),\n",
       " WindowsPath('C:/jupyter notebook/熔池数据/20210316_20210316094436_K438/layer265'),\n",
       " WindowsPath('C:/jupyter notebook/熔池数据/20210316_20210316094436_K438/layer266'),\n",
       " WindowsPath('C:/jupyter notebook/熔池数据/20210316_20210316094436_K438/layer267'),\n",
       " WindowsPath('C:/jupyter notebook/熔池数据/20210316_20210316094436_K438/layer268'),\n",
       " WindowsPath('C:/jupyter notebook/熔池数据/20210316_20210316094436_K438/layer269'),\n",
       " WindowsPath('C:/jupyter notebook/熔池数据/20210316_20210316094436_K438/layer270'),\n",
       " WindowsPath('C:/jupyter notebook/熔池数据/20210316_20210316094436_K438/layer271'),\n",
       " WindowsPath('C:/jupyter notebook/熔池数据/20210316_20210316094436_K438/layer272'),\n",
       " WindowsPath('C:/jupyter notebook/熔池数据/20210316_20210316094436_K438/layer273'),\n",
       " WindowsPath('C:/jupyter notebook/熔池数据/20210316_20210316094436_K438/layer274'),\n",
       " WindowsPath('C:/jupyter notebook/熔池数据/20210316_20210316094436_K438/layer275')]"
      ]
     },
     "execution_count": 25,
     "metadata": {},
     "output_type": "execute_result"
    }
   ],
   "source": [
    "child_dir_list"
   ]
  },
  {
   "cell_type": "code",
   "execution_count": null,
   "id": "f1dfe6fc",
   "metadata": {},
   "outputs": [],
   "source": [
    "\n",
    "\n",
    "\n",
    "xml_path = r'C:\\jupyter notebook\\熔池数据\\k438layer103\\Data\\103_20210316121817.xml'\n",
    "tree = ET.parse(xml_path)\n",
    "root = tree.getroot() #获取根节点\n",
    "feature = tree.findall('FEATURE') #获取feature节点列表"
   ]
  }
 ],
 "metadata": {
  "hide_input": false,
  "kernelspec": {
   "display_name": "Python 3 (ipykernel)",
   "language": "python",
   "name": "python3"
  },
  "language_info": {
   "codemirror_mode": {
    "name": "ipython",
    "version": 3
   },
   "file_extension": ".py",
   "mimetype": "text/x-python",
   "name": "python",
   "nbconvert_exporter": "python",
   "pygments_lexer": "ipython3",
   "version": "3.9.7"
  },
  "toc": {
   "base_numbering": 1,
   "nav_menu": {},
   "number_sections": true,
   "sideBar": true,
   "skip_h1_title": false,
   "title_cell": "Table of Contents",
   "title_sidebar": "Contents",
   "toc_cell": false,
   "toc_position": {
    "height": "calc(100% - 180px)",
    "left": "10px",
    "top": "150px",
    "width": "248.719px"
   },
   "toc_section_display": true,
   "toc_window_display": true
  },
  "varInspector": {
   "cols": {
    "lenName": 16,
    "lenType": 16,
    "lenVar": 40
   },
   "kernels_config": {
    "python": {
     "delete_cmd_postfix": "",
     "delete_cmd_prefix": "del ",
     "library": "var_list.py",
     "varRefreshCmd": "print(var_dic_list())"
    },
    "r": {
     "delete_cmd_postfix": ") ",
     "delete_cmd_prefix": "rm(",
     "library": "var_list.r",
     "varRefreshCmd": "cat(var_dic_list()) "
    }
   },
   "oldHeight": 222.852,
   "position": {
    "height": "40px",
    "left": "697.625px",
    "right": "20px",
    "top": "29.9844px",
    "width": "662.977px"
   },
   "types_to_exclude": [
    "module",
    "function",
    "builtin_function_or_method",
    "instance",
    "_Feature"
   ],
   "varInspector_section_display": "none",
   "window_display": true
  }
 },
 "nbformat": 4,
 "nbformat_minor": 5
}
